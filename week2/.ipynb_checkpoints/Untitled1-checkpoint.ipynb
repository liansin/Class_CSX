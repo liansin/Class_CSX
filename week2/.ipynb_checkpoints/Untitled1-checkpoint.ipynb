{
 "cells": [
  {
   "cell_type": "code",
   "execution_count": 34,
   "metadata": {},
   "outputs": [],
   "source": [
    "import requests\n",
    "import json\n",
    "from time import sleep"
   ]
  },
  {
   "cell_type": "code",
   "execution_count": 43,
   "metadata": {},
   "outputs": [
    {
     "name": "stdout",
     "output_type": "stream",
     "text": [
      "1234 0\n",
      "1234 1\n",
      "1234 2\n",
      "1234 3\n",
      "1234 4\n",
      "1234 5\n",
      "1234 6\n",
      "1234 7\n",
      "1234 8\n",
      "1234 9\n",
      "1234 10\n",
      "1234 11\n",
      "1235 0\n",
      "1235 1\n",
      "1235 2\n",
      "1235 3\n",
      "1235 4\n",
      "1235 5\n",
      "1235 6\n",
      "1235 7\n",
      "1235 8\n",
      "1235 9\n",
      "1235 10\n",
      "1235 11\n",
      "1236 0\n",
      "1236 1\n",
      "1236 2\n",
      "1236 3\n",
      "1236 4\n",
      "1236 5\n",
      "1236 6\n",
      "1236 7\n",
      "1236 8\n",
      "1236 9\n",
      "1236 10\n",
      "1236 11\n"
     ]
    }
   ],
   "source": [
    "stockNo = [1234, 1235, 1236]\n",
    "ans = dict()\n",
    "decoder = json.JSONDecoder()\n",
    "for no in stockNo:\n",
    "    for i in range(12):\n",
    "        print(no, i)\n",
    "        if i+1 < 10:\n",
    "            url = 'http://www.tse.com.tw/exchangeReport/STOCK_DAY?date=20170'+str(i+1)+'01&stockNo='+str(no)\n",
    "        else:\n",
    "            url = 'http://www.tse.com.tw/exchangeReport/STOCK_DAY?date=2017'+str(i+1)+'01&stockNo='+str(no)\n",
    "        res = requests.get(url)        \n",
    "        stock = decoder.decode(res.text)\n",
    "        date = [stock[\"data\"][i][0] for i in range(len(stock[\"data\"]))]\n",
    "        value = [stock[\"data\"][i][-2] for i in range(len(stock[\"data\"]))]\n",
    "        if str(no) in ans:\n",
    "            ans[str(no)]['date'].append(date)\n",
    "            ans[str(no)]['value'].append(value)\n",
    "        else:\n",
    "            ans[str(no)] = dict()\n",
    "            ans[str(no)]['date'] = list()\n",
    "            ans[str(no)]['value'] = list()\n",
    "            ans[str(no)]['date'].append(date)\n",
    "            ans[str(no)]['value'].append(value)\n",
    "        sleep(8)"
   ]
  },
  {
   "cell_type": "code",
   "execution_count": null,
   "metadata": {},
   "outputs": [],
   "source": []
  },
  {
   "cell_type": "code",
   "execution_count": 47,
   "metadata": {},
   "outputs": [],
   "source": [
    "import numpy as np\n",
    "import matplotlib as pt"
   ]
  },
  {
   "cell_type": "code",
   "execution_count": null,
   "metadata": {},
   "outputs": [],
   "source": []
  }
 ],
 "metadata": {
  "kernelspec": {
   "display_name": "Python 3",
   "language": "python",
   "name": "python3"
  },
  "language_info": {
   "codemirror_mode": {
    "name": "ipython",
    "version": 3
   },
   "file_extension": ".py",
   "mimetype": "text/x-python",
   "name": "python",
   "nbconvert_exporter": "python",
   "pygments_lexer": "ipython3",
   "version": "3.5.4"
  }
 },
 "nbformat": 4,
 "nbformat_minor": 2
}
