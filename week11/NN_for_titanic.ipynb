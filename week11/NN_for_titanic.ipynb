{
 "cells": [
  {
   "cell_type": "code",
   "execution_count": 51,
   "metadata": {},
   "outputs": [],
   "source": [
    "import pandas as pd\n",
    "from sklearn.decomposition import PCA\n",
    "from sklearn.preprocessing import Normalizer\n",
    "from sklearn.svm import SVC\n",
    "import numpy as np"
   ]
  },
  {
   "cell_type": "markdown",
   "metadata": {},
   "source": [
    " - # 目的 : 用乘客搭乘的資訊來預估事發後有可能生存的人"
   ]
  },
  {
   "cell_type": "code",
   "execution_count": 52,
   "metadata": {},
   "outputs": [],
   "source": [
    "data_train = pd.read_csv(\"titanicTrain.csv\")\n",
    "data_test  = pd.read_csv(\"titanicQuestion.csv\")"
   ]
  },
  {
   "cell_type": "code",
   "execution_count": 53,
   "metadata": {},
   "outputs": [
    {
     "data": {
      "text/plain": [
       "Index(['pclass', 'survived', 'name', 'sex', 'age', 'sibsp', 'parch', 'ticket',\n",
       "       'fare', 'cabin', 'embarked', 'boat', 'body', 'home.dest'],\n",
       "      dtype='object')"
      ]
     },
     "execution_count": 53,
     "metadata": {},
     "output_type": "execute_result"
    }
   ],
   "source": [
    "data_train.keys()"
   ]
  },
  {
   "cell_type": "code",
   "execution_count": 54,
   "metadata": {},
   "outputs": [
    {
     "data": {
      "text/plain": [
       "Index(['pclass', 'survived', 'name', 'sex', 'age', 'sibsp', 'parch', 'ticket',\n",
       "       'fare', 'cabin', 'embarked', 'boat', 'body', 'home.dest'],\n",
       "      dtype='object')"
      ]
     },
     "execution_count": 54,
     "metadata": {},
     "output_type": "execute_result"
    }
   ],
   "source": [
    "data_test.keys()"
   ]
  },
  {
   "cell_type": "markdown",
   "metadata": {},
   "source": [
    " - 找有無搭上船及船編號對存貨率的影響"
   ]
  },
  {
   "cell_type": "code",
   "execution_count": 55,
   "metadata": {},
   "outputs": [],
   "source": [
    "frame_boat = pd.DataFrame(data_train)"
   ]
  },
  {
   "cell_type": "code",
   "execution_count": 56,
   "metadata": {},
   "outputs": [],
   "source": [
    "frame_0 = frame_boat['survived']\n",
    "frame_1 = frame_boat['boat']"
   ]
  },
  {
   "cell_type": "code",
   "execution_count": 57,
   "metadata": {},
   "outputs": [],
   "source": [
    "frame_s = pd.Series(frame_0[0:1000])\n",
    "frame_b = pd.Series(frame_1[0:1000])\n",
    "data_testt = {'survived':frame_s,'boat':frame_b}\n",
    "frame_test = pd.DataFrame(data_testt)"
   ]
  },
  {
   "cell_type": "code",
   "execution_count": 58,
   "metadata": {},
   "outputs": [
    {
     "data": {
      "text/plain": [
       "boat        583\n",
       "survived      0\n",
       "dtype: int64"
      ]
     },
     "execution_count": 58,
     "metadata": {},
     "output_type": "execute_result"
    }
   ],
   "source": [
    "frame_test.isnull().sum()"
   ]
  },
  {
   "cell_type": "code",
   "execution_count": 59,
   "metadata": {},
   "outputs": [],
   "source": [
    "frame_QQ = frame_test.sort_values(by = ['boat'] , ascending = False)\n",
    "frame_QQ.index = range(len(frame_QQ))"
   ]
  },
  {
   "cell_type": "code",
   "execution_count": 60,
   "metadata": {},
   "outputs": [],
   "source": [
    "frame_QQ_0 = pd.Series(frame_QQ['boat'][0:417])\n",
    "frame_QQ_1 = pd.Series(frame_QQ['survived'][0:417])\n",
    "data_QQ = {'boat':frame_QQ_0,'survived':frame_QQ_1}\n",
    "frame_QQ_boat = pd.DataFrame(data_QQ)"
   ]
  },
  {
   "cell_type": "code",
   "execution_count": 61,
   "metadata": {},
   "outputs": [],
   "source": [
    "frame_QQ_boat = frame_QQ_boat.sort_values(by = 'boat',ascending=True)\n",
    "frame_QQ_boat.index = range(len(frame_QQ_boat))"
   ]
  },
  {
   "cell_type": "code",
   "execution_count": 62,
   "metadata": {},
   "outputs": [
    {
     "name": "stdout",
     "output_type": "stream",
     "text": [
      "boat :  1 Survived_rate =  100.0 %\n",
      "boat :  2 Survived_rate =  100.0 %\n",
      "boat :  3 Survived_rate =  100.0 %\n",
      "boat :  4 Survived_rate =  100.0 %\n",
      "boat :  5 Survived_rate =  100.0 %\n",
      "boat :  6 Survived_rate =  100.0 %\n",
      "boat :  7 Survived_rate =  100.0 %\n",
      "boat :  8 Survived_rate =  100.0 %\n",
      "boat :  9 Survived_rate =  100.0 %\n",
      "boat :  10 Survived_rate =  100.0 %\n",
      "boat :  11 Survived_rate =  100.0 %\n",
      "boat :  12 Survived_rate =  94.73684210526315 %\n",
      "boat :  13 Survived_rate =  100.0 %\n",
      "boat :  14 Survived_rate =  96.55172413793103 %\n",
      "boat :  15 Survived_rate =  100.0 %\n",
      "boat :  16 Survived_rate =  100.0 %\n",
      "boat :  A Survived_rate =  60.0 %\n",
      "boat :  B Survived_rate =  83.33333333333334 %\n",
      "boat :  C Survived_rate =  100.0 %\n",
      "boat :  D Survived_rate =  93.75 %\n"
     ]
    }
   ],
   "source": [
    "bboat = ['1','2','3','4','5','6','7','8','9','10','11','12','13','14','15','16','A','B','C','D']\n",
    "for i in range(len(bboat)):\n",
    "    q = 0\n",
    "    r = 0\n",
    "    s = len(frame_QQ_boat.loc[frame_QQ_boat['boat'] == bboat[i]])\n",
    "    q = frame_QQ_boat.loc[frame_QQ_boat['boat'] == bboat[i]].sum()    \n",
    "    print( 'boat : ',bboat[i] ,'Survived_rate = ',q[1]/s*100 ,'%' )"
   ]
  },
  {
   "cell_type": "code",
   "execution_count": 63,
   "metadata": {},
   "outputs": [],
   "source": [
    "##### IF no boat survived rate #####"
   ]
  },
  {
   "cell_type": "code",
   "execution_count": 64,
   "metadata": {},
   "outputs": [],
   "source": [
    "frame_QQ_0 = pd.Series(frame_QQ['boat'][417:1000])\n",
    "frame_QQ_1 = pd.Series(frame_QQ['survived'][417:1000])\n",
    "data_QQ = {'boat':frame_QQ_0,'survived':frame_QQ_1}\n",
    "frame_QQ_no_boat = pd.DataFrame(data_QQ)"
   ]
  },
  {
   "cell_type": "code",
   "execution_count": 65,
   "metadata": {},
   "outputs": [
    {
     "name": "stdout",
     "output_type": "stream",
     "text": [
      "no_boat_survived_rate :  2.401372212692967  % \n"
     ]
    }
   ],
   "source": [
    "frame_QQ_no_boat.sum(),frame_QQ_no_boat.isnull().sum()\n",
    "print('no_boat_survived_rate : ',14/583*100 ,' % ')"
   ]
  },
  {
   "cell_type": "markdown",
   "metadata": {},
   "source": [
    " - # 可以看出有無搭上船以及哪艘船對存活率的判斷很重要"
   ]
  },
  {
   "cell_type": "code",
   "execution_count": 66,
   "metadata": {},
   "outputs": [],
   "source": [
    "###  ↓ ↓ ↓ ↓ ↓ ↓ 將文字替換成數字用以訓練 "
   ]
  },
  {
   "cell_type": "markdown",
   "metadata": {},
   "source": [
    " - Convert data_boat_survived_rate  to [0 ~ 100 % ]  ， 由於有無搭上船以及搭哪艘船對生存率影響很重要 ，所以有對各種船的生存率去做調整"
   ]
  },
  {
   "cell_type": "code",
   "execution_count": 67,
   "metadata": {},
   "outputs": [],
   "source": [
    "h = {'1':100,'2':100,'3':100,'4':100,'5':100,'6':100,'7':100,'8':100,'9':100,'10':100,'11':100,'12':94.73,'13':100,'14':96.55,'15':100,'16':100,'A':60,'B':83.33,'C':100,'D':93.75,'NaN':2.4}"
   ]
  },
  {
   "cell_type": "code",
   "execution_count": 68,
   "metadata": {},
   "outputs": [],
   "source": [
    "x = data_train['boat']\n",
    "y = data_test['boat']\n",
    "boat_data_train = x.map(h)\n",
    "boat_data_test = y.map(h)\n",
    "boat_data_train = boat_data_train.fillna(2.4)\n",
    "boat_data_test = boat_data_test.fillna(2.4)"
   ]
  },
  {
   "cell_type": "markdown",
   "metadata": {},
   "source": [
    " - Convert data_sex [ female  &  male ] to [0 & 1]"
   ]
  },
  {
   "cell_type": "code",
   "execution_count": 69,
   "metadata": {},
   "outputs": [],
   "source": [
    "z = {'female': 0, 'male': 1}"
   ]
  },
  {
   "cell_type": "code",
   "execution_count": 70,
   "metadata": {},
   "outputs": [
    {
     "data": {
      "text/plain": [
       "Index(['pclass', 'survived', 'name', 'sex', 'age', 'sibsp', 'parch', 'ticket',\n",
       "       'fare', 'cabin', 'embarked', 'boat', 'body', 'home.dest'],\n",
       "      dtype='object')"
      ]
     },
     "execution_count": 70,
     "metadata": {},
     "output_type": "execute_result"
    }
   ],
   "source": [
    "data_test.keys()"
   ]
  },
  {
   "cell_type": "code",
   "execution_count": 71,
   "metadata": {},
   "outputs": [],
   "source": [
    "x = data_train['sex']\n",
    "y = data_test['sex']\n",
    "sex_data_train = x.map(z)\n",
    "sex_data_test = y.map(z)"
   ]
  },
  {
   "cell_type": "markdown",
   "metadata": {},
   "source": [
    " - Convert data_embarked [ S  &  C  &  Q ] to [ 0 & 1 & 2 ]"
   ]
  },
  {
   "cell_type": "code",
   "execution_count": 72,
   "metadata": {},
   "outputs": [],
   "source": [
    "g = {'S': 0, 'C': 1, 'Q': 2}"
   ]
  },
  {
   "cell_type": "code",
   "execution_count": 73,
   "metadata": {},
   "outputs": [],
   "source": [
    "x = data_train['embarked']\n",
    "y = data_test['embarked']\n",
    "embarked_data_train = x.map(g)\n",
    "embarked_data_test = y.map(g)"
   ]
  },
  {
   "cell_type": "markdown",
   "metadata": {},
   "source": [
    " - Get data  [  survived  ,  sex  ,  age  ,  sibsp  ,  ticket  ] to train"
   ]
  },
  {
   "cell_type": "code",
   "execution_count": 74,
   "metadata": {},
   "outputs": [],
   "source": [
    "data_train_tr = data_train.iloc[:,[4, 5 ,6 ,8 ,1]].values\n",
    "data_test_te = data_test.iloc[:,[4, 5 ,6 ,8]].values"
   ]
  },
  {
   "cell_type": "markdown",
   "metadata": {},
   "source": [
    " - Use data [  survived  ,   sex  ,   age  ,   sibsp  ,   ticket  ,   embarked   ] to  train"
   ]
  },
  {
   "cell_type": "code",
   "execution_count": 75,
   "metadata": {},
   "outputs": [],
   "source": [
    "# train = all ， survived = 14.5%"
   ]
  },
  {
   "cell_type": "code",
   "execution_count": 76,
   "metadata": {},
   "outputs": [],
   "source": [
    "frame_train = pd.DataFrame(data_train_tr)\n",
    "frame_0 = pd.Series(frame_train[0][0:750])\n",
    "frame_1 = pd.Series(frame_train[1][0:750])\n",
    "frame_2 = pd.Series(frame_train[2][0:750])\n",
    "frame_3 = pd.Series(frame_train[3][0:750])\n",
    "frame_4 = pd.Series(frame_train[4][0:750])\n",
    "frame_5 = pd.Series(sex_data_train[0:750])\n",
    "frame_6 = pd.Series(embarked_data_train[0:750])\n",
    "frame_7 = pd.Series(boat_data_train[0:750])\n",
    "data_train = {'age':frame_0,'sibsp':frame_1,'parch':frame_2,'fare':frame_3,'survived':frame_4,'sex':frame_5,'embarked':frame_6,'boat':frame_7}\n",
    "frame_train = pd.DataFrame(data_train)"
   ]
  },
  {
   "cell_type": "code",
   "execution_count": 77,
   "metadata": {},
   "outputs": [],
   "source": [
    "frame_test = pd.DataFrame(data_test_te)\n",
    "frame_0 = pd.Series(frame_test[0])\n",
    "frame_1 = pd.Series(frame_test[1])\n",
    "frame_2 = pd.Series(frame_test[2])\n",
    "frame_3 = pd.Series(frame_test[3])\n",
    "frame_5 = pd.Series(sex_data_test[0:1000])\n",
    "frame_6 = pd.Series(sex_data_test[0:1000])\n",
    "frame_7 = pd.Series(sex_data_test[0:1000])\n",
    "data_test = {'age':frame_0,'sibsp':frame_1,'parch':frame_2,'fare':frame_3,'sex':frame_5,'embarked':frame_6,'boat':frame_7}\n",
    "frame_test = pd.DataFrame(data_test)"
   ]
  },
  {
   "cell_type": "markdown",
   "metadata": {},
   "source": [
    " - Test Model accuracy_rate"
   ]
  },
  {
   "cell_type": "code",
   "execution_count": 78,
   "metadata": {},
   "outputs": [],
   "source": [
    "# train = 0.75(data_train) ；test = 0.25(data_train) ， Model accuracy_rate = 70%"
   ]
  },
  {
   "cell_type": "code",
   "execution_count": 79,
   "metadata": {},
   "outputs": [],
   "source": [
    "# frame_train = pd.DataFrame(data_train_tr)\n",
    "# frame_0 = pd.Series(frame_train[0][0:750])\n",
    "# frame_1 = pd.Series(frame_train[1][0:750])\n",
    "# frame_2 = pd.Series(frame_train[2][0:750])\n",
    "# frame_3 = pd.Series(frame_train[3][0:750])\n",
    "# frame_4 = pd.Series(frame_train[4][0:750])\n",
    "# frame_5 = pd.Series(sex_data_train[0:750])\n",
    "# frame_6 = pd.Series(embarked_data_train[0:750])\n",
    "# frame_7 = pd.Series(boat_data_train[0:750])\n",
    "# data_train = {'age':frame_0,'sibsp':frame_1,'parch':frame_2,'fare':frame_3,'survived':frame_4,'sex':frame_5,'embarked':frame_6,'boat':frame_7}\n",
    "# frame_train = pd.DataFrame(data_train)"
   ]
  },
  {
   "cell_type": "code",
   "execution_count": 80,
   "metadata": {},
   "outputs": [],
   "source": [
    "# boat_data_train\n",
    "# boat_data_test"
   ]
  },
  {
   "cell_type": "code",
   "execution_count": 81,
   "metadata": {},
   "outputs": [],
   "source": [
    "# frame_test = pd.DataFrame(data_train_tr)\n",
    "# frame_0 = pd.Series(frame_test[0][750:1000])\n",
    "# frame_1 = pd.Series(frame_test[1][750:1000])\n",
    "# frame_2 = pd.Series(frame_test[2][750:1000])\n",
    "# frame_3 = pd.Series(frame_test[3][750:1000])\n",
    "# frame_5 = pd.Series(sex_data_train[750:1000])\n",
    "# frame_6 = pd.Series(embarked_data_train[750:1000])\n",
    "# frame_7 = pd.Series(boat_data_train[750:1000])\n",
    "# data_test = {'age':frame_0,'sibsp':frame_1,'parch':frame_2,'fare':frame_3,'sex':frame_5,'embarked':frame_6,'boat':frame_7}\n",
    "# frame_test = pd.DataFrame(data_test)"
   ]
  },
  {
   "cell_type": "code",
   "execution_count": 82,
   "metadata": {},
   "outputs": [],
   "source": [
    "frame_train = frame_train.fillna(frame_train.mean())\n",
    "frame_test = frame_test.fillna(frame_test.mean())"
   ]
  },
  {
   "cell_type": "code",
   "execution_count": 83,
   "metadata": {},
   "outputs": [],
   "source": [
    "def get_testing_labels(training_samples, training_labels, testing_samples):\n",
    "    normalizer       = Normalizer().fit(training_samples)\n",
    "    training_samples = normalizer.transform(training_samples)\n",
    "    testing_samples  = normalizer.transform(testing_samples)\n",
    "\n",
    "    pca              = PCA(n_components=0.8, whiten=True).fit(training_samples)\n",
    "    training_samples = pca.transform(training_samples)\n",
    "    testing_samples  = pca.transform(testing_samples)\n",
    "\n",
    "    svm_classifier   = SVC(C=2.8).fit(training_samples, training_labels)\n",
    "    return svm_classifier.predict(testing_samples)"
   ]
  },
  {
   "cell_type": "code",
   "execution_count": 84,
   "metadata": {},
   "outputs": [],
   "source": [
    "def main():\n",
    "    # Read training and testing data\n",
    "    training_df = frame_train\n",
    "    testing_df  = frame_test \n",
    "\n",
    "    # Get training samples and labels from training data\n",
    "    training_labels     = training_df['survived'].values\n",
    "    training_samples    = training_df.drop(['survived'], axis = 1).values\n",
    "    # Get testing samples from testing data\n",
    "    testing_samples     = testing_df.values\n",
    "    testing_labels      = get_testing_labels(training_samples, training_labels, testing_samples)\n",
    "    \n",
    "    # Writing testing labels to CSV\n",
    "    testing_labels_df   = pd.DataFrame(testing_labels, columns=['Label'])\n",
    "    testing_labels_df.index     += 1\n",
    "    testing_labels_df.index.name = 'ImageId'\n",
    "    testing_labels_df.to_csv('Predict_survived.csv', sep=',')"
   ]
  },
  {
   "cell_type": "code",
   "execution_count": 85,
   "metadata": {},
   "outputs": [],
   "source": [
    "if __name__ == \"__main__\":\n",
    "    main()"
   ]
  },
  {
   "cell_type": "code",
   "execution_count": null,
   "metadata": {},
   "outputs": [],
   "source": []
  },
  {
   "cell_type": "code",
   "execution_count": null,
   "metadata": {},
   "outputs": [],
   "source": []
  },
  {
   "cell_type": "code",
   "execution_count": null,
   "metadata": {},
   "outputs": [],
   "source": []
  },
  {
   "cell_type": "code",
   "execution_count": null,
   "metadata": {},
   "outputs": [],
   "source": []
  },
  {
   "cell_type": "code",
   "execution_count": 36,
   "metadata": {},
   "outputs": [],
   "source": [
    "###############################################################################\n",
    "###############################################################################\n",
    "###############################################################################"
   ]
  },
  {
   "cell_type": "markdown",
   "metadata": {},
   "source": [
    " -  - Model predict accuracy rate"
   ]
  },
  {
   "cell_type": "code",
   "execution_count": 37,
   "metadata": {},
   "outputs": [],
   "source": [
    "###############################################################################\n",
    "###############################################################################\n",
    "###############################################################################"
   ]
  },
  {
   "cell_type": "code",
   "execution_count": 38,
   "metadata": {},
   "outputs": [],
   "source": [
    "# train = (data_train) ；test = (data_train) ， Model accuracy_rate = 97%"
   ]
  },
  {
   "cell_type": "code",
   "execution_count": 39,
   "metadata": {},
   "outputs": [],
   "source": [
    "frame_train = pd.DataFrame(data_train_tr)\n",
    "frame_0 = pd.Series(frame_train[0][0:750])\n",
    "frame_1 = pd.Series(frame_train[1][0:750])\n",
    "frame_2 = pd.Series(frame_train[2][0:750])\n",
    "frame_3 = pd.Series(frame_train[3][0:750])\n",
    "frame_4 = pd.Series(frame_train[4][0:750])\n",
    "frame_5 = pd.Series(sex_data_train[0:750])\n",
    "frame_6 = pd.Series(embarked_data_train[0:750])\n",
    "frame_7 = pd.Series(boat_data_train[0:750])\n",
    "data_train = {'age':frame_0,'sibsp':frame_1,'parch':frame_2,'fare':frame_3,'survived':frame_4,'sex':frame_5,'embarked':frame_6,'boat':frame_7}\n",
    "frame_train = pd.DataFrame(data_train)"
   ]
  },
  {
   "cell_type": "code",
   "execution_count": 40,
   "metadata": {},
   "outputs": [],
   "source": [
    "frame_test = pd.DataFrame(data_train_tr)\n",
    "frame_0 = pd.Series(frame_test[0][750:1000])\n",
    "frame_1 = pd.Series(frame_test[1][750:1000])\n",
    "frame_2 = pd.Series(frame_test[2][750:1000])\n",
    "frame_3 = pd.Series(frame_test[3][750:1000])\n",
    "frame_5 = pd.Series(sex_data_train[750:1000])\n",
    "frame_6 = pd.Series(embarked_data_train[750:1000])\n",
    "frame_7 = pd.Series(boat_data_train[750:1000])\n",
    "data_test = {'age':frame_0,'sibsp':frame_1,'parch':frame_2,'fare':frame_3,'sex':frame_5,'embarked':frame_6,'boat':frame_7}\n",
    "frame_test = pd.DataFrame(data_test)"
   ]
  },
  {
   "cell_type": "markdown",
   "metadata": {},
   "source": [
    " - 缺失值( nan ) 用平均去帶入\n",
    " - 參考網站 : http://www.ppvke.com/Blog/archives/36612"
   ]
  },
  {
   "cell_type": "code",
   "execution_count": 41,
   "metadata": {},
   "outputs": [],
   "source": [
    "frame_train = frame_train.fillna(frame_train.mean())\n",
    "frame_test = frame_test.fillna(frame_test.mean())"
   ]
  },
  {
   "cell_type": "code",
   "execution_count": 98,
   "metadata": {},
   "outputs": [],
   "source": [
    "frame_train.to_csv('frame_train.csv', sep=',')\n",
    "frame_test.to_csv('frame_test.csv', sep=',')"
   ]
  },
  {
   "cell_type": "code",
   "execution_count": null,
   "metadata": {},
   "outputs": [],
   "source": []
  },
  {
   "cell_type": "markdown",
   "metadata": {},
   "source": [
    " - ## Use NN_Model to train titanic data"
   ]
  },
  {
   "cell_type": "code",
   "execution_count": 107,
   "metadata": {},
   "outputs": [
    {
     "name": "stderr",
     "output_type": "stream",
     "text": [
      "C:\\Users\\user\\Anaconda3\\lib\\site-packages\\h5py\\__init__.py:36: FutureWarning: Conversion of the second argument of issubdtype from `float` to `np.floating` is deprecated. In future, it will be treated as `np.float64 == np.dtype(float).type`.\n",
      "  from ._conv import register_converters as _register_converters\n"
     ]
    }
   ],
   "source": [
    "from sklearn import datasets\n",
    "import numpy as np\n",
    "import tensorflow as tf\n",
    "import matplotlib.pyplot as plt"
   ]
  },
  {
   "cell_type": "markdown",
   "metadata": {},
   "source": [
    " - Read titanic_data(clean data)"
   ]
  },
  {
   "cell_type": "code",
   "execution_count": 132,
   "metadata": {},
   "outputs": [],
   "source": [
    "train_data = pd.read_csv('frame_train.csv')\n",
    "test_data = pd.read_csv('frame_test.csv')"
   ]
  },
  {
   "cell_type": "code",
   "execution_count": 133,
   "metadata": {},
   "outputs": [
    {
     "data": {
      "text/html": [
       "<div>\n",
       "<style scoped>\n",
       "    .dataframe tbody tr th:only-of-type {\n",
       "        vertical-align: middle;\n",
       "    }\n",
       "\n",
       "    .dataframe tbody tr th {\n",
       "        vertical-align: top;\n",
       "    }\n",
       "\n",
       "    .dataframe thead th {\n",
       "        text-align: right;\n",
       "    }\n",
       "</style>\n",
       "<table border=\"1\" class=\"dataframe\">\n",
       "  <thead>\n",
       "    <tr style=\"text-align: right;\">\n",
       "      <th></th>\n",
       "      <th>Unnamed: 0</th>\n",
       "      <th>age</th>\n",
       "      <th>boat</th>\n",
       "      <th>embarked</th>\n",
       "      <th>fare</th>\n",
       "      <th>parch</th>\n",
       "      <th>sex</th>\n",
       "      <th>sibsp</th>\n",
       "      <th>survived</th>\n",
       "    </tr>\n",
       "  </thead>\n",
       "  <tbody>\n",
       "    <tr>\n",
       "      <th>0</th>\n",
       "      <td>0</td>\n",
       "      <td>29.0000</td>\n",
       "      <td>100.0</td>\n",
       "      <td>0.0</td>\n",
       "      <td>211.3375</td>\n",
       "      <td>0.0</td>\n",
       "      <td>0.0</td>\n",
       "      <td>0.0</td>\n",
       "      <td>1.0</td>\n",
       "    </tr>\n",
       "    <tr>\n",
       "      <th>1</th>\n",
       "      <td>1</td>\n",
       "      <td>0.9167</td>\n",
       "      <td>100.0</td>\n",
       "      <td>0.0</td>\n",
       "      <td>151.5500</td>\n",
       "      <td>2.0</td>\n",
       "      <td>1.0</td>\n",
       "      <td>1.0</td>\n",
       "      <td>1.0</td>\n",
       "    </tr>\n",
       "    <tr>\n",
       "      <th>2</th>\n",
       "      <td>2</td>\n",
       "      <td>2.0000</td>\n",
       "      <td>2.4</td>\n",
       "      <td>0.0</td>\n",
       "      <td>151.5500</td>\n",
       "      <td>2.0</td>\n",
       "      <td>0.0</td>\n",
       "      <td>1.0</td>\n",
       "      <td>0.0</td>\n",
       "    </tr>\n",
       "    <tr>\n",
       "      <th>3</th>\n",
       "      <td>3</td>\n",
       "      <td>30.0000</td>\n",
       "      <td>2.4</td>\n",
       "      <td>0.0</td>\n",
       "      <td>151.5500</td>\n",
       "      <td>2.0</td>\n",
       "      <td>1.0</td>\n",
       "      <td>1.0</td>\n",
       "      <td>0.0</td>\n",
       "    </tr>\n",
       "    <tr>\n",
       "      <th>4</th>\n",
       "      <td>4</td>\n",
       "      <td>25.0000</td>\n",
       "      <td>2.4</td>\n",
       "      <td>0.0</td>\n",
       "      <td>151.5500</td>\n",
       "      <td>2.0</td>\n",
       "      <td>0.0</td>\n",
       "      <td>1.0</td>\n",
       "      <td>0.0</td>\n",
       "    </tr>\n",
       "  </tbody>\n",
       "</table>\n",
       "</div>"
      ],
      "text/plain": [
       "   Unnamed: 0      age   boat  embarked      fare  parch  sex  sibsp  survived\n",
       "0           0  29.0000  100.0       0.0  211.3375    0.0  0.0    0.0       1.0\n",
       "1           1   0.9167  100.0       0.0  151.5500    2.0  1.0    1.0       1.0\n",
       "2           2   2.0000    2.4       0.0  151.5500    2.0  0.0    1.0       0.0\n",
       "3           3  30.0000    2.4       0.0  151.5500    2.0  1.0    1.0       0.0\n",
       "4           4  25.0000    2.4       0.0  151.5500    2.0  0.0    1.0       0.0"
      ]
     },
     "execution_count": 133,
     "metadata": {},
     "output_type": "execute_result"
    }
   ],
   "source": [
    "train_data.head()"
   ]
  },
  {
   "cell_type": "code",
   "execution_count": 134,
   "metadata": {},
   "outputs": [
    {
     "data": {
      "text/html": [
       "<div>\n",
       "<style scoped>\n",
       "    .dataframe tbody tr th:only-of-type {\n",
       "        vertical-align: middle;\n",
       "    }\n",
       "\n",
       "    .dataframe tbody tr th {\n",
       "        vertical-align: top;\n",
       "    }\n",
       "\n",
       "    .dataframe thead th {\n",
       "        text-align: right;\n",
       "    }\n",
       "</style>\n",
       "<table border=\"1\" class=\"dataframe\">\n",
       "  <thead>\n",
       "    <tr style=\"text-align: right;\">\n",
       "      <th></th>\n",
       "      <th>Unnamed: 0</th>\n",
       "      <th>age</th>\n",
       "      <th>boat</th>\n",
       "      <th>embarked</th>\n",
       "      <th>fare</th>\n",
       "      <th>parch</th>\n",
       "      <th>sex</th>\n",
       "      <th>sibsp</th>\n",
       "    </tr>\n",
       "  </thead>\n",
       "  <tbody>\n",
       "    <tr>\n",
       "      <th>0</th>\n",
       "      <td>0</td>\n",
       "      <td>24.281982</td>\n",
       "      <td>1</td>\n",
       "      <td>1</td>\n",
       "      <td>7.7500</td>\n",
       "      <td>0.0</td>\n",
       "      <td>1</td>\n",
       "      <td>0.0</td>\n",
       "    </tr>\n",
       "    <tr>\n",
       "      <th>1</th>\n",
       "      <td>1</td>\n",
       "      <td>24.281982</td>\n",
       "      <td>0</td>\n",
       "      <td>0</td>\n",
       "      <td>23.2500</td>\n",
       "      <td>0.0</td>\n",
       "      <td>0</td>\n",
       "      <td>2.0</td>\n",
       "    </tr>\n",
       "    <tr>\n",
       "      <th>2</th>\n",
       "      <td>2</td>\n",
       "      <td>24.281982</td>\n",
       "      <td>0</td>\n",
       "      <td>0</td>\n",
       "      <td>23.2500</td>\n",
       "      <td>0.0</td>\n",
       "      <td>0</td>\n",
       "      <td>2.0</td>\n",
       "    </tr>\n",
       "    <tr>\n",
       "      <th>3</th>\n",
       "      <td>3</td>\n",
       "      <td>24.281982</td>\n",
       "      <td>1</td>\n",
       "      <td>1</td>\n",
       "      <td>23.2500</td>\n",
       "      <td>0.0</td>\n",
       "      <td>1</td>\n",
       "      <td>2.0</td>\n",
       "    </tr>\n",
       "    <tr>\n",
       "      <th>4</th>\n",
       "      <td>4</td>\n",
       "      <td>24.281982</td>\n",
       "      <td>0</td>\n",
       "      <td>0</td>\n",
       "      <td>7.7875</td>\n",
       "      <td>0.0</td>\n",
       "      <td>0</td>\n",
       "      <td>0.0</td>\n",
       "    </tr>\n",
       "  </tbody>\n",
       "</table>\n",
       "</div>"
      ],
      "text/plain": [
       "   Unnamed: 0        age  boat  embarked     fare  parch  sex  sibsp\n",
       "0           0  24.281982     1         1   7.7500    0.0    1    0.0\n",
       "1           1  24.281982     0         0  23.2500    0.0    0    2.0\n",
       "2           2  24.281982     0         0  23.2500    0.0    0    2.0\n",
       "3           3  24.281982     1         1  23.2500    0.0    1    2.0\n",
       "4           4  24.281982     0         0   7.7875    0.0    0    0.0"
      ]
     },
     "execution_count": 134,
     "metadata": {},
     "output_type": "execute_result"
    }
   ],
   "source": [
    "test_data.head()"
   ]
  },
  {
   "cell_type": "code",
   "execution_count": 135,
   "metadata": {},
   "outputs": [],
   "source": [
    "train_data.drop(train_data.columns[[0]], axis=1, inplace=True)\n",
    "test_data.drop(test_data.columns[[0]], axis=1, inplace=True)"
   ]
  },
  {
   "cell_type": "code",
   "execution_count": 137,
   "metadata": {},
   "outputs": [
    {
     "data": {
      "text/plain": [
       "((750, 8), (309, 7))"
      ]
     },
     "execution_count": 137,
     "metadata": {},
     "output_type": "execute_result"
    }
   ],
   "source": [
    "train_data.shape,test_data.shape"
   ]
  },
  {
   "cell_type": "code",
   "execution_count": 138,
   "metadata": {},
   "outputs": [],
   "source": [
    "train_d = np.array(train_data)"
   ]
  },
  {
   "cell_type": "code",
   "execution_count": 153,
   "metadata": {},
   "outputs": [],
   "source": [
    "train_da = np.delete(train_d,-1,1)\n",
    "train_label = train_d[:,-1].reshape([-1, 1])"
   ]
  },
  {
   "cell_type": "code",
   "execution_count": 154,
   "metadata": {},
   "outputs": [
    {
     "data": {
      "text/plain": [
       "((750, 7), (750, 1))"
      ]
     },
     "execution_count": 154,
     "metadata": {},
     "output_type": "execute_result"
    }
   ],
   "source": [
    "train_da.shape,train_label.shape"
   ]
  },
  {
   "cell_type": "code",
   "execution_count": 156,
   "metadata": {},
   "outputs": [],
   "source": [
    "x = tf.placeholder(dtype=tf.float32, shape=[None, 7], name='input')\n",
    "y = tf.placeholder(dtype=tf.float32, shape=[None, 1], name='prediction')"
   ]
  },
  {
   "cell_type": "code",
   "execution_count": 157,
   "metadata": {},
   "outputs": [],
   "source": [
    "def _weight(shape):\n",
    "    initial = tf.truncated_normal(mean=0, stddev=.5, shape=shape)\n",
    "    return tf.Variable(initial)\n",
    "def _bias(shape):\n",
    "    initial = tf.constant(.25, shape=shape)\n",
    "    return tf.Variable(initial)"
   ]
  },
  {
   "cell_type": "code",
   "execution_count": 158,
   "metadata": {},
   "outputs": [],
   "source": [
    "w_1 = _weight([7, 128])\n",
    "b_1 = _bias([128])\n",
    "L1 = tf.nn.relu(tf.add(tf.matmul(x, w_1), b_1))\n",
    "\n",
    "w_2 = _weight([128, 128])\n",
    "b_2 = _bias([128])\n",
    "L2 = tf.nn.relu(tf.add(tf.matmul(L1, w_2), b_2))\n",
    "\n",
    "w_3 = _weight([128, 1])\n",
    "b_3 = _bias([1])\n",
    "_pred = tf.add(tf.matmul(L2, w_3), b_3)\n",
    "pred = tf.sigmoid(_pred)"
   ]
  },
  {
   "cell_type": "code",
   "execution_count": 159,
   "metadata": {},
   "outputs": [],
   "source": [
    "# loss = tf.reduce_mean(-y*tf.log(pred) - (1-y)*tf.log(1-pred))\n",
    "loss = tf.losses.sigmoid_cross_entropy(multi_class_labels=y,\n",
    "                                       logits=_pred,)\n",
    "op = tf.train.AdamOptimizer(learning_rate=1e-3)\n",
    "update_step = op.minimize(loss)"
   ]
  },
  {
   "cell_type": "code",
   "execution_count": 160,
   "metadata": {},
   "outputs": [],
   "source": [
    "sess = tf.Session()\n",
    "init = tf.global_variables_initializer()\n",
    "sess.run(init)"
   ]
  },
  {
   "cell_type": "code",
   "execution_count": 163,
   "metadata": {},
   "outputs": [
    {
     "name": "stdout",
     "output_type": "stream",
     "text": [
      "Epoch: 1 , Loss(train): [1.178] , Accu(train): [0.972] , Loss(test): [3.389] , Accu(test): [0.907]\n",
      "Epoch: 2 , Loss(train): [1.504] , Accu(train): [0.957] , Loss(test): [3.441] , Accu(test): [0.9]\n",
      "Epoch: 3 , Loss(train): [1.701] , Accu(train): [0.963] , Loss(test): [4.445] , Accu(test): [0.893]\n",
      "Epoch: 4 , Loss(train): [1.995] , Accu(train): [0.973] , Loss(test): [2.079] , Accu(test): [0.967]\n",
      "Epoch: 5 , Loss(train): [1.766] , Accu(train): [0.96] , Loss(test): [4.015] , Accu(test): [0.873]\n",
      "Epoch: 6 , Loss(train): [1.632] , Accu(train): [0.95] , Loss(test): [3.224] , Accu(test): [0.867]\n",
      "Epoch: 7 , Loss(train): [2.705] , Accu(train): [0.927] , Loss(test): [4.079] , Accu(test): [0.88]\n",
      "Epoch: 8 , Loss(train): [1.269] , Accu(train): [0.975] , Loss(test): [1.219] , Accu(test): [0.98]\n",
      "Epoch: 9 , Loss(train): [1.125] , Accu(train): [0.915] , Loss(test): [2.578] , Accu(test): [0.827]\n",
      "Epoch: 10 , Loss(train): [0.738] , Accu(train): [0.975] , Loss(test): [2.169] , Accu(test): [0.96]\n",
      "Epoch: 11 , Loss(train): [0.382] , Accu(train): [0.965] , Loss(test): [2.322] , Accu(test): [0.913]\n",
      "Epoch: 12 , Loss(train): [0.347] , Accu(train): [0.973] , Loss(test): [1.467] , Accu(test): [0.96]\n",
      "Epoch: 13 , Loss(train): [0.469] , Accu(train): [0.917] , Loss(test): [2.228] , Accu(test): [0.893]\n",
      "Epoch: 14 , Loss(train): [0.507] , Accu(train): [0.973] , Loss(test): [2.664] , Accu(test): [0.933]\n",
      "Epoch: 15 , Loss(train): [0.333] , Accu(train): [0.965] , Loss(test): [1.415] , Accu(test): [0.967]\n",
      "Epoch: 16 , Loss(train): [1.796] , Accu(train): [0.96] , Loss(test): [3.645] , Accu(test): [0.887]\n",
      "Epoch: 17 , Loss(train): [0.629] , Accu(train): [0.975] , Loss(test): [2.419] , Accu(test): [0.96]\n",
      "Epoch: 18 , Loss(train): [0.217] , Accu(train): [0.957] , Loss(test): [1.726] , Accu(test): [0.94]\n",
      "Epoch: 19 , Loss(train): [0.331] , Accu(train): [0.975] , Loss(test): [2.16] , Accu(test): [0.94]\n",
      "Epoch: 20 , Loss(train): [0.552] , Accu(train): [0.975] , Loss(test): [2.588] , Accu(test): [0.933]\n",
      "Epoch: 21 , Loss(train): [0.703] , Accu(train): [0.962] , Loss(test): [1.12] , Accu(test): [0.98]\n",
      "Epoch: 22 , Loss(train): [0.941] , Accu(train): [0.973] , Loss(test): [1.543] , Accu(test): [0.973]\n",
      "Epoch: 23 , Loss(train): [0.548] , Accu(train): [0.973] , Loss(test): [2.214] , Accu(test): [0.953]\n",
      "Epoch: 24 , Loss(train): [1.621] , Accu(train): [0.808] , Loss(test): [1.011] , Accu(test): [0.907]\n",
      "Epoch: 25 , Loss(train): [1.602] , Accu(train): [0.97] , Loss(test): [3.731] , Accu(test): [0.92]\n",
      "Epoch: 26 , Loss(train): [0.694] , Accu(train): [0.973] , Loss(test): [2.886] , Accu(test): [0.947]\n",
      "Epoch: 27 , Loss(train): [0.956] , Accu(train): [0.965] , Loss(test): [2.474] , Accu(test): [0.94]\n",
      "Epoch: 28 , Loss(train): [3.068] , Accu(train): [0.902] , Loss(test): [3.191] , Accu(test): [0.893]\n",
      "Epoch: 29 , Loss(train): [3.023] , Accu(train): [0.928] , Loss(test): [3.778] , Accu(test): [0.913]\n",
      "Epoch: 30 , Loss(train): [1.748] , Accu(train): [0.973] , Loss(test): [2.003] , Accu(test): [0.967]\n",
      "Epoch: 31 , Loss(train): [0.808] , Accu(train): [0.972] , Loss(test): [2.609] , Accu(test): [0.947]\n",
      "Epoch: 32 , Loss(train): [1.063] , Accu(train): [0.97] , Loss(test): [2.716] , Accu(test): [0.947]\n",
      "Epoch: 33 , Loss(train): [0.949] , Accu(train): [0.935] , Loss(test): [1.657] , Accu(test): [0.953]\n",
      "Epoch: 34 , Loss(train): [0.306] , Accu(train): [0.975] , Loss(test): [1.644] , Accu(test): [0.96]\n",
      "Epoch: 35 , Loss(train): [0.564] , Accu(train): [0.975] , Loss(test): [2.153] , Accu(test): [0.973]\n",
      "Epoch: 36 , Loss(train): [0.743] , Accu(train): [0.883] , Loss(test): [0.918] , Accu(test): [0.98]\n",
      "Epoch: 37 , Loss(train): [1.426] , Accu(train): [0.973] , Loss(test): [2.878] , Accu(test): [0.98]\n",
      "Epoch: 38 , Loss(train): [0.755] , Accu(train): [0.975] , Loss(test): [2.498] , Accu(test): [0.973]\n",
      "Epoch: 39 , Loss(train): [0.423] , Accu(train): [0.975] , Loss(test): [1.909] , Accu(test): [0.96]\n",
      "Epoch: 40 , Loss(train): [0.224] , Accu(train): [0.953] , Loss(test): [0.976] , Accu(test): [0.98]\n",
      "Epoch: 41 , Loss(train): [0.408] , Accu(train): [0.975] , Loss(test): [1.199] , Accu(test): [0.98]\n",
      "Epoch: 42 , Loss(train): [0.798] , Accu(train): [0.932] , Loss(test): [1.609] , Accu(test): [0.953]\n",
      "Epoch: 43 , Loss(train): [0.612] , Accu(train): [0.975] , Loss(test): [1.46] , Accu(test): [0.98]\n",
      "Epoch: 44 , Loss(train): [0.416] , Accu(train): [0.975] , Loss(test): [1.806] , Accu(test): [0.973]\n",
      "Epoch: 45 , Loss(train): [0.586] , Accu(train): [0.975] , Loss(test): [1.976] , Accu(test): [0.973]\n",
      "Epoch: 46 , Loss(train): [0.57] , Accu(train): [0.977] , Loss(test): [1.886] , Accu(test): [0.96]\n",
      "Epoch: 47 , Loss(train): [0.604] , Accu(train): [0.975] , Loss(test): [1.918] , Accu(test): [0.973]\n",
      "Epoch: 48 , Loss(train): [0.643] , Accu(train): [0.977] , Loss(test): [2.065] , Accu(test): [0.98]\n",
      "Epoch: 49 , Loss(train): [0.275] , Accu(train): [0.972] , Loss(test): [1.189] , Accu(test): [0.973]\n",
      "Epoch: 50 , Loss(train): [0.373] , Accu(train): [0.977] , Loss(test): [1.61] , Accu(test): [0.973]\n",
      "Epoch: 51 , Loss(train): [0.987] , Accu(train): [0.965] , Loss(test): [1.725] , Accu(test): [0.973]\n",
      "Epoch: 52 , Loss(train): [0.674] , Accu(train): [0.973] , Loss(test): [1.611] , Accu(test): [0.98]\n",
      "Epoch: 53 , Loss(train): [0.617] , Accu(train): [0.973] , Loss(test): [1.677] , Accu(test): [0.98]\n",
      "Epoch: 54 , Loss(train): [0.398] , Accu(train): [0.973] , Loss(test): [1.692] , Accu(test): [0.973]\n",
      "Epoch: 55 , Loss(train): [0.397] , Accu(train): [0.933] , Loss(test): [1.288] , Accu(test): [0.973]\n",
      "Epoch: 56 , Loss(train): [1.73] , Accu(train): [0.948] , Loss(test): [1.818] , Accu(test): [0.96]\n",
      "Epoch: 57 , Loss(train): [0.682] , Accu(train): [0.975] , Loss(test): [1.571] , Accu(test): [0.98]\n",
      "Epoch: 58 , Loss(train): [0.691] , Accu(train): [0.975] , Loss(test): [1.322] , Accu(test): [0.98]\n",
      "Epoch: 59 , Loss(train): [1.46] , Accu(train): [0.973] , Loss(test): [3.48] , Accu(test): [0.973]\n",
      "Epoch: 60 , Loss(train): [2.255] , Accu(train): [0.973] , Loss(test): [4.275] , Accu(test): [0.973]\n",
      "Epoch: 61 , Loss(train): [1.2] , Accu(train): [0.975] , Loss(test): [3.232] , Accu(test): [0.973]\n",
      "Epoch: 62 , Loss(train): [2.363] , Accu(train): [0.942] , Loss(test): [2.891] , Accu(test): [0.96]\n",
      "Epoch: 63 , Loss(train): [0.836] , Accu(train): [0.973] , Loss(test): [2.104] , Accu(test): [0.98]\n",
      "Epoch: 64 , Loss(train): [0.855] , Accu(train): [0.975] , Loss(test): [2.252] , Accu(test): [0.973]\n",
      "Epoch: 65 , Loss(train): [0.474] , Accu(train): [0.952] , Loss(test): [0.849] , Accu(test): [0.98]\n",
      "Epoch: 66 , Loss(train): [0.494] , Accu(train): [0.973] , Loss(test): [1.467] , Accu(test): [0.98]\n",
      "Epoch: 67 , Loss(train): [0.341] , Accu(train): [0.923] , Loss(test): [1.093] , Accu(test): [0.973]\n",
      "Epoch: 68 , Loss(train): [0.836] , Accu(train): [0.973] , Loss(test): [2.608] , Accu(test): [0.973]\n",
      "Epoch: 69 , Loss(train): [0.603] , Accu(train): [0.97] , Loss(test): [1.401] , Accu(test): [0.98]\n",
      "Epoch: 70 , Loss(train): [0.603] , Accu(train): [0.975] , Loss(test): [1.599] , Accu(test): [0.973]\n",
      "Epoch: 71 , Loss(train): [0.523] , Accu(train): [0.975] , Loss(test): [2.001] , Accu(test): [0.973]\n",
      "Epoch: 72 , Loss(train): [0.315] , Accu(train): [0.975] , Loss(test): [1.565] , Accu(test): [0.973]\n",
      "Epoch: 73 , Loss(train): [0.728] , Accu(train): [0.975] , Loss(test): [2.057] , Accu(test): [0.973]\n",
      "Epoch: 74 , Loss(train): [0.401] , Accu(train): [0.977] , Loss(test): [1.754] , Accu(test): [0.973]\n",
      "Epoch: 75 , Loss(train): [1.085] , Accu(train): [0.967] , Loss(test): [2.044] , Accu(test): [0.96]\n",
      "Epoch: 76 , Loss(train): [0.688] , Accu(train): [0.975] , Loss(test): [2.161] , Accu(test): [0.973]\n",
      "Epoch: 77 , Loss(train): [0.427] , Accu(train): [0.977] , Loss(test): [1.839] , Accu(test): [0.973]\n",
      "Epoch: 78 , Loss(train): [1.07] , Accu(train): [0.973] , Loss(test): [2.726] , Accu(test): [0.973]\n",
      "Epoch: 79 , Loss(train): [2.29] , Accu(train): [0.958] , Loss(test): [3.894] , Accu(test): [0.96]\n",
      "Epoch: 80 , Loss(train): [0.856] , Accu(train): [0.977] , Loss(test): [2.753] , Accu(test): [0.973]\n",
      "Epoch: 81 , Loss(train): [0.628] , Accu(train): [0.977] , Loss(test): [2.133] , Accu(test): [0.973]\n",
      "Epoch: 82 , Loss(train): [0.283] , Accu(train): [0.978] , Loss(test): [1.402] , Accu(test): [0.973]\n",
      "Epoch: 83 , Loss(train): [0.464] , Accu(train): [0.975] , Loss(test): [1.407] , Accu(test): [0.98]\n",
      "Epoch: 84 , Loss(train): [0.338] , Accu(train): [0.977] , Loss(test): [1.523] , Accu(test): [0.973]\n"
     ]
    },
    {
     "name": "stdout",
     "output_type": "stream",
     "text": [
      "Epoch: 85 , Loss(train): [0.591] , Accu(train): [0.977] , Loss(test): [2.167] , Accu(test): [0.973]\n",
      "Epoch: 86 , Loss(train): [0.32] , Accu(train): [0.975] , Loss(test): [1.482] , Accu(test): [0.973]\n",
      "Epoch: 87 , Loss(train): [0.691] , Accu(train): [0.975] , Loss(test): [2.018] , Accu(test): [0.98]\n",
      "Epoch: 88 , Loss(train): [0.791] , Accu(train): [0.975] , Loss(test): [2.08] , Accu(test): [0.98]\n",
      "Epoch: 89 , Loss(train): [0.61] , Accu(train): [0.975] , Loss(test): [1.452] , Accu(test): [0.98]\n",
      "Epoch: 90 , Loss(train): [0.651] , Accu(train): [0.977] , Loss(test): [2.093] , Accu(test): [0.973]\n",
      "Epoch: 91 , Loss(train): [0.911] , Accu(train): [0.975] , Loss(test): [2.3] , Accu(test): [0.98]\n",
      "Epoch: 92 , Loss(train): [0.423] , Accu(train): [0.977] , Loss(test): [1.865] , Accu(test): [0.973]\n",
      "Epoch: 93 , Loss(train): [0.257] , Accu(train): [0.958] , Loss(test): [1.272] , Accu(test): [0.973]\n",
      "Epoch: 94 , Loss(train): [0.51] , Accu(train): [0.977] , Loss(test): [1.771] , Accu(test): [0.973]\n",
      "Epoch: 95 , Loss(train): [0.517] , Accu(train): [0.975] , Loss(test): [1.321] , Accu(test): [0.98]\n",
      "Epoch: 96 , Loss(train): [0.735] , Accu(train): [0.977] , Loss(test): [2.232] , Accu(test): [0.973]\n",
      "Epoch: 97 , Loss(train): [0.837] , Accu(train): [0.977] , Loss(test): [2.289] , Accu(test): [0.98]\n",
      "Epoch: 98 , Loss(train): [0.486] , Accu(train): [0.977] , Loss(test): [1.822] , Accu(test): [0.973]\n",
      "Epoch: 99 , Loss(train): [0.603] , Accu(train): [0.968] , Loss(test): [1.453] , Accu(test): [0.973]\n",
      "Epoch: 100 , Loss(train): [0.654] , Accu(train): [0.975] , Loss(test): [1.759] , Accu(test): [0.98]\n"
     ]
    }
   ],
   "source": [
    "epoch = 100\n",
    "batch_size = 20\n",
    "losses_train = list()\n",
    "losses_test = list()\n",
    "accus_train = list()\n",
    "accus_test = list()\n",
    "np.set_printoptions(precision=3)\n",
    "for epo in range(epoch):\n",
    "    # training\n",
    "    for i in range(20):\n",
    "        batch_x = train_da[i*batch_size:i*batch_size+batch_size]\n",
    "        batch_y = train_label[i*batch_size:i*batch_size+batch_size]\n",
    "        feed_dict = {x:batch_x, y:batch_y}\n",
    "        _ = sess.run([update_step], feed_dict=feed_dict)\n",
    "    # evaluation\n",
    "    batch_x = train_da[:600]\n",
    "    batch_y = train_label[:600]\n",
    "    feed_dict = {x:batch_x, y:batch_y}\n",
    "    p, l = sess.run([pred, loss], feed_dict=feed_dict)\n",
    "    accu = (600 - np.sum(np.abs(batch_y - p.astype('int'))))/600\n",
    "    losses_train.append(l)\n",
    "    accus_train.append(accu)\n",
    "    l_train = np.array([l])\n",
    "    accu_train = np.array([accu])\n",
    "    \n",
    "    batch_x = train_da[600:]\n",
    "    batch_y = train_label[600:]\n",
    "    feed_dict = {x:batch_x, y:batch_y}\n",
    "    p, l = sess.run([pred, loss], feed_dict=feed_dict)\n",
    "    accu = (150 - np.sum(np.abs(batch_y - p.astype('int'))))/150\n",
    "    losses_test.append(l)\n",
    "    accus_test.append(accu)\n",
    "    l_test = np.array([l])\n",
    "    accu_test = np.array([accu])\n",
    "    print('Epoch:', epo+1,\n",
    "          ', Loss(train):', l_train,\n",
    "          ', Accu(train):', accu_train,\n",
    "          ', Loss(test):', l_test,\n",
    "          ', Accu(test):', accu_test)"
   ]
  },
  {
   "cell_type": "code",
   "execution_count": 164,
   "metadata": {},
   "outputs": [
    {
     "data": {
      "image/png": "[encoded data removed]",
      "text/plain": [
       "<matplotlib.figure.Figure at 0x232fccece10>"
      ]
     },
     "metadata": {},
     "output_type": "display_data"
    },
    {
     "data": {
      "image/png": "[encoded data removed]",
      "text/plain": [
       "<matplotlib.figure.Figure at 0x232fcd44f60>"
      ]
     },
     "metadata": {},
     "output_type": "display_data"
    }
   ],
   "source": [
    "plt.plot(np.arange(epoch)+1, losses_train, 'b')\n",
    "plt.plot(np.arange(epoch)+1, losses_test, '--r')\n",
    "plt.legend(['train', 'test'])\n",
    "plt.title('loss')\n",
    "plt.show()\n",
    "\n",
    "plt.plot(np.arange(epoch)+1, accus_train, 'b')\n",
    "plt.plot(np.arange(epoch)+1, accus_test, '--r')\n",
    "plt.legend(['train', 'test'])\n",
    "plt.title('accuracy')\n",
    "plt.show()"
   ]
  },
  {
   "cell_type": "code",
   "execution_count": null,
   "metadata": {},
   "outputs": [],
   "source": []
  }
 ],
 "metadata": {
  "kernelspec": {
   "display_name": "Python 3",
   "language": "python",
   "name": "python3"
  },
  "language_info": {
   "codemirror_mode": {
    "name": "ipython",
    "version": 3
   },
   "file_extension": ".py",
   "mimetype": "text/x-python",
   "name": "python",
   "nbconvert_exporter": "python",
   "pygments_lexer": "ipython3",
   "version": "3.6.4"
  }
 },
 "nbformat": 4,
 "nbformat_minor": 2
}
