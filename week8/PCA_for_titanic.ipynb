{
 "cells": [
  {
   "cell_type": "code",
   "execution_count": 22,
   "metadata": {},
   "outputs": [],
   "source": [
    "import pandas as pd\n",
    "from sklearn.decomposition import PCA\n",
    "from sklearn.preprocessing import Normalizer\n",
    "from sklearn.svm import SVC\n",
    "import numpy as np"
   ]
  },
  {
   "cell_type": "markdown",
   "metadata": {},
   "source": [
    " - # 目的 : 用乘客搭乘的資訊來預估事發後有可能生存的人"
   ]
  },
  {
   "cell_type": "code",
   "execution_count": 23,
   "metadata": {},
   "outputs": [],
   "source": [
    "data_train = pd.read_csv(\"titanicTrain.csv\")\n",
    "data_test  = pd.read_csv(\"titanicQuestion.csv\")"
   ]
  },
  {
   "cell_type": "code",
   "execution_count": 24,
   "metadata": {},
   "outputs": [
    {
     "data": {
      "text/plain": [
       "Index(['pclass', 'survived', 'name', 'sex', 'age', 'sibsp', 'parch', 'ticket',\n",
       "       'fare', 'cabin', 'embarked', 'boat', 'body', 'home.dest'],\n",
       "      dtype='object')"
      ]
     },
     "execution_count": 24,
     "metadata": {},
     "output_type": "execute_result"
    }
   ],
   "source": [
    "data_train.keys()"
   ]
  },
  {
   "cell_type": "code",
   "execution_count": 25,
   "metadata": {},
   "outputs": [
    {
     "data": {
      "text/plain": [
       "Index(['pclass', 'survived', 'name', 'sex', 'age', 'sibsp', 'parch', 'ticket',\n",
       "       'fare', 'cabin', 'embarked', 'boat', 'body', 'home.dest'],\n",
       "      dtype='object')"
      ]
     },
     "execution_count": 25,
     "metadata": {},
     "output_type": "execute_result"
    }
   ],
   "source": [
    "data_test.keys()"
   ]
  },
  {
   "cell_type": "markdown",
   "metadata": {},
   "source": [
    " - 找有無搭上船及船編號對存貨率的影響"
   ]
  },
  {
   "cell_type": "code",
   "execution_count": 26,
   "metadata": {},
   "outputs": [],
   "source": [
    "frame_boat = pd.DataFrame(data_train)"
   ]
  },
  {
   "cell_type": "code",
   "execution_count": 27,
   "metadata": {},
   "outputs": [],
   "source": [
    "frame_0 = frame_boat['survived']\n",
    "frame_1 = frame_boat['boat']"
   ]
  },
  {
   "cell_type": "code",
   "execution_count": 28,
   "metadata": {},
   "outputs": [],
   "source": [
    "frame_s = pd.Series(frame_0[0:1000])\n",
    "frame_b = pd.Series(frame_1[0:1000])\n",
    "data_testt = {'survived':frame_s,'boat':frame_b}\n",
    "frame_test = pd.DataFrame(data_testt)"
   ]
  },
  {
   "cell_type": "code",
   "execution_count": 29,
   "metadata": {},
   "outputs": [
    {
     "data": {
      "text/plain": [
       "boat        583\n",
       "survived      0\n",
       "dtype: int64"
      ]
     },
     "execution_count": 29,
     "metadata": {},
     "output_type": "execute_result"
    }
   ],
   "source": [
    "frame_test.isnull().sum()"
   ]
  },
  {
   "cell_type": "code",
   "execution_count": 30,
   "metadata": {},
   "outputs": [],
   "source": [
    "frame_QQ = frame_test.sort_values(by = ['boat'] , ascending = False)\n",
    "frame_QQ.index = range(len(frame_QQ))"
   ]
  },
  {
   "cell_type": "code",
   "execution_count": 31,
   "metadata": {},
   "outputs": [],
   "source": [
    "frame_QQ_0 = pd.Series(frame_QQ['boat'][0:417])\n",
    "frame_QQ_1 = pd.Series(frame_QQ['survived'][0:417])\n",
    "data_QQ = {'boat':frame_QQ_0,'survived':frame_QQ_1}\n",
    "frame_QQ_boat = pd.DataFrame(data_QQ)"
   ]
  },
  {
   "cell_type": "code",
   "execution_count": 32,
   "metadata": {},
   "outputs": [],
   "source": [
    "frame_QQ_boat = frame_QQ_boat.sort_values(by = 'boat',ascending=True)\n",
    "frame_QQ_boat.index = range(len(frame_QQ_boat))"
   ]
  },
  {
   "cell_type": "code",
   "execution_count": 33,
   "metadata": {},
   "outputs": [
    {
     "name": "stdout",
     "output_type": "stream",
     "text": [
      "boat :  1 Survived_rate =  100.0 %\n",
      "boat :  2 Survived_rate =  100.0 %\n",
      "boat :  3 Survived_rate =  100.0 %\n",
      "boat :  4 Survived_rate =  100.0 %\n",
      "boat :  5 Survived_rate =  100.0 %\n",
      "boat :  6 Survived_rate =  100.0 %\n",
      "boat :  7 Survived_rate =  100.0 %\n",
      "boat :  8 Survived_rate =  100.0 %\n",
      "boat :  9 Survived_rate =  100.0 %\n",
      "boat :  10 Survived_rate =  100.0 %\n",
      "boat :  11 Survived_rate =  100.0 %\n",
      "boat :  12 Survived_rate =  94.73684210526315 %\n",
      "boat :  13 Survived_rate =  100.0 %\n",
      "boat :  14 Survived_rate =  96.55172413793103 %\n",
      "boat :  15 Survived_rate =  100.0 %\n",
      "boat :  16 Survived_rate =  100.0 %\n",
      "boat :  A Survived_rate =  60.0 %\n",
      "boat :  B Survived_rate =  83.33333333333334 %\n",
      "boat :  C Survived_rate =  100.0 %\n",
      "boat :  D Survived_rate =  93.75 %\n"
     ]
    }
   ],
   "source": [
    "bboat = ['1','2','3','4','5','6','7','8','9','10','11','12','13','14','15','16','A','B','C','D']\n",
    "for i in range(len(bboat)):\n",
    "    q = 0\n",
    "    r = 0\n",
    "    s = len(frame_QQ_boat.loc[frame_QQ_boat['boat'] == bboat[i]])\n",
    "    q = frame_QQ_boat.loc[frame_QQ_boat['boat'] == bboat[i]].sum()    \n",
    "    print( 'boat : ',bboat[i] ,'Survived_rate = ',q[1]/s*100 ,'%' )"
   ]
  },
  {
   "cell_type": "code",
   "execution_count": 34,
   "metadata": {},
   "outputs": [],
   "source": [
    "##### IF no boat survived rate #####"
   ]
  },
  {
   "cell_type": "code",
   "execution_count": 35,
   "metadata": {},
   "outputs": [],
   "source": [
    "frame_QQ_0 = pd.Series(frame_QQ['boat'][417:1000])\n",
    "frame_QQ_1 = pd.Series(frame_QQ['survived'][417:1000])\n",
    "data_QQ = {'boat':frame_QQ_0,'survived':frame_QQ_1}\n",
    "frame_QQ_no_boat = pd.DataFrame(data_QQ)"
   ]
  },
  {
   "cell_type": "code",
   "execution_count": 36,
   "metadata": {},
   "outputs": [
    {
     "name": "stdout",
     "output_type": "stream",
     "text": [
      "no_boat_survived_rate :  2.401372212692967  % \n"
     ]
    }
   ],
   "source": [
    "frame_QQ_no_boat.sum(),frame_QQ_no_boat.isnull().sum()\n",
    "print('no_boat_survived_rate : ',14/583*100 ,' % ')"
   ]
  },
  {
   "cell_type": "markdown",
   "metadata": {},
   "source": [
    " - # 可以看出有無搭上船以及哪艘船對存活率的判斷很重要"
   ]
  },
  {
   "cell_type": "code",
   "execution_count": 70,
   "metadata": {},
   "outputs": [],
   "source": [
    "###  ↓ ↓ ↓ ↓ ↓ ↓ 將文字替換成數字用以訓練 "
   ]
  },
  {
   "cell_type": "markdown",
   "metadata": {},
   "source": [
    " - Convert data_boat_survived_rate  to [0 ~ 100 % ]  ， 由於有無搭上船以及搭哪艘船對生存率影響很重要 ，所以有對各種船的生存率去做調整"
   ]
  },
  {
   "cell_type": "code",
   "execution_count": 37,
   "metadata": {},
   "outputs": [],
   "source": [
    "h = {'1':100,'2':100,'3':100,'4':100,'5':100,'6':100,'7':100,'8':100,'9':100,'10':100,'11':100,'12':94.73,'13':100,'14':96.55,'15':100,'16':100,'A':60,'B':83.33,'C':100,'D':93.75,'NaN':2.4}"
   ]
  },
  {
   "cell_type": "code",
   "execution_count": 38,
   "metadata": {},
   "outputs": [],
   "source": [
    "x = data_train['boat']\n",
    "y = data_test['boat']\n",
    "boat_data_train = x.map(h)\n",
    "boat_data_test = y.map(h)\n",
    "boat_data_train = boat_data_train.fillna(2.4)\n",
    "boat_data_test = boat_data_test.fillna(2.4)"
   ]
  },
  {
   "cell_type": "markdown",
   "metadata": {},
   "source": [
    " - Convert data_sex [ female  &  male ] to [0 & 1]"
   ]
  },
  {
   "cell_type": "code",
   "execution_count": 39,
   "metadata": {},
   "outputs": [],
   "source": [
    "z = {'female': 0, 'male': 1}"
   ]
  },
  {
   "cell_type": "code",
   "execution_count": 40,
   "metadata": {},
   "outputs": [
    {
     "data": {
      "text/plain": [
       "Index(['pclass', 'survived', 'name', 'sex', 'age', 'sibsp', 'parch', 'ticket',\n",
       "       'fare', 'cabin', 'embarked', 'boat', 'body', 'home.dest'],\n",
       "      dtype='object')"
      ]
     },
     "execution_count": 40,
     "metadata": {},
     "output_type": "execute_result"
    }
   ],
   "source": [
    "data_test.keys()"
   ]
  },
  {
   "cell_type": "code",
   "execution_count": 41,
   "metadata": {},
   "outputs": [],
   "source": [
    "x = data_train['sex']\n",
    "y = data_test['sex']\n",
    "sex_data_train = x.map(z)\n",
    "sex_data_test = y.map(z)"
   ]
  },
  {
   "cell_type": "markdown",
   "metadata": {},
   "source": [
    " - Convert data_embarked [ S  &  C  &  Q ] to [ 0 & 1 & 2 ]"
   ]
  },
  {
   "cell_type": "code",
   "execution_count": 42,
   "metadata": {},
   "outputs": [],
   "source": [
    "g = {'S': 0, 'C': 1, 'Q': 2}"
   ]
  },
  {
   "cell_type": "code",
   "execution_count": 43,
   "metadata": {},
   "outputs": [],
   "source": [
    "x = data_train['embarked']\n",
    "y = data_test['embarked']\n",
    "embarked_data_train = x.map(g)\n",
    "embarked_data_test = y.map(g)"
   ]
  },
  {
   "cell_type": "markdown",
   "metadata": {},
   "source": [
    " - Get data  [  survived  ,  sex  ,  age  ,  sibsp  ,  ticket  ] to train"
   ]
  },
  {
   "cell_type": "code",
   "execution_count": 44,
   "metadata": {},
   "outputs": [],
   "source": [
    "data_train_tr = data_train.iloc[:,[4, 5 ,6 ,8 ,1]].values\n",
    "data_test_te = data_test.iloc[:,[4, 5 ,6 ,8]].values"
   ]
  },
  {
   "cell_type": "markdown",
   "metadata": {},
   "source": [
    " - Use data [  survived  ,   sex  ,   age  ,   sibsp  ,   ticket  ,   embarked   ] to  train"
   ]
  },
  {
   "cell_type": "code",
   "execution_count": 45,
   "metadata": {},
   "outputs": [],
   "source": [
    "# train = all ， survived = 14.5%"
   ]
  },
  {
   "cell_type": "code",
   "execution_count": 46,
   "metadata": {},
   "outputs": [],
   "source": [
    "frame_train = pd.DataFrame(data_train_tr)\n",
    "frame_0 = pd.Series(frame_train[0][0:1000])\n",
    "frame_1 = pd.Series(frame_train[1][0:1000])\n",
    "frame_2 = pd.Series(frame_train[2][0:1000])\n",
    "frame_3 = pd.Series(frame_train[3][0:1000])\n",
    "frame_4 = pd.Series(frame_train[4][0:1000])\n",
    "frame_5 = pd.Series(sex_data_train[0:1000])\n",
    "frame_6 = pd.Series(embarked_data_train[0:1000])\n",
    "frame_7 = pd.Series(boat_data_train[0:1000])\n",
    "data_train = {'age':frame_0,'sibsp':frame_1,'parch':frame_2,'fare':frame_3,'survived':frame_4,'sex':frame_5,'embarked':frame_6,'boat':frame_7}\n",
    "frame_train = pd.DataFrame(data_train)"
   ]
  },
  {
   "cell_type": "code",
   "execution_count": 47,
   "metadata": {},
   "outputs": [],
   "source": [
    "frame_test = pd.DataFrame(data_test_te)\n",
    "frame_0 = pd.Series(frame_test[0])\n",
    "frame_1 = pd.Series(frame_test[1])\n",
    "frame_2 = pd.Series(frame_test[2])\n",
    "frame_3 = pd.Series(frame_test[3])\n",
    "frame_5 = pd.Series(sex_data_test[0:1000])\n",
    "frame_6 = pd.Series(embarked_data_test[0:1000])\n",
    "frame_7 = pd.Series(boat_data_test[0:1000])\n",
    "data_test = {'age':frame_0,'sibsp':frame_1,'parch':frame_2,'fare':frame_3,'sex':frame_5,'embarked':frame_6,'boat':frame_7}\n",
    "frame_test = pd.DataFrame(data_test)"
   ]
  },
  {
   "cell_type": "markdown",
   "metadata": {},
   "source": [
    " - Test Model accuracy_rate"
   ]
  },
  {
   "cell_type": "code",
   "execution_count": 48,
   "metadata": {},
   "outputs": [],
   "source": [
    "# train = 0.75(data_train) ；test = 0.25(data_train) ， Model accuracy_rate = 70%"
   ]
  },
  {
   "cell_type": "code",
   "execution_count": 49,
   "metadata": {},
   "outputs": [],
   "source": [
    "# frame_train = pd.DataFrame(data_train_tr)\n",
    "# frame_0 = pd.Series(frame_train[0][0:750])\n",
    "# frame_1 = pd.Series(frame_train[1][0:750])\n",
    "# frame_2 = pd.Series(frame_train[2][0:750])\n",
    "# frame_3 = pd.Series(frame_train[3][0:750])\n",
    "# frame_4 = pd.Series(frame_train[4][0:750])\n",
    "# frame_5 = pd.Series(sex_data_train[0:750])\n",
    "# frame_6 = pd.Series(embarked_data_train[0:750])\n",
    "# frame_7 = pd.Series(boat_data_train[0:750])\n",
    "# data_train = {'age':frame_0,'sibsp':frame_1,'parch':frame_2,'fare':frame_3,'survived':frame_4,'sex':frame_5,'embarked':frame_6,'boat':frame_7}\n",
    "# frame_train = pd.DataFrame(data_train)"
   ]
  },
  {
   "cell_type": "code",
   "execution_count": 50,
   "metadata": {},
   "outputs": [],
   "source": [
    "# boat_data_train\n",
    "# boat_data_test"
   ]
  },
  {
   "cell_type": "code",
   "execution_count": 51,
   "metadata": {},
   "outputs": [],
   "source": [
    "# frame_test = pd.DataFrame(data_train_tr)\n",
    "# frame_0 = pd.Series(frame_test[0][750:1000])\n",
    "# frame_1 = pd.Series(frame_test[1][750:1000])\n",
    "# frame_2 = pd.Series(frame_test[2][750:1000])\n",
    "# frame_3 = pd.Series(frame_test[3][750:1000])\n",
    "# frame_5 = pd.Series(sex_data_train[750:1000])\n",
    "# frame_6 = pd.Series(embarked_data_train[750:1000])\n",
    "# frame_7 = pd.Series(boat_data_train[750:1000])\n",
    "# data_test = {'age':frame_0,'sibsp':frame_1,'parch':frame_2,'fare':frame_3,'sex':frame_5,'embarked':frame_6,'boat':frame_7}\n",
    "# frame_test = pd.DataFrame(data_test)"
   ]
  },
  {
   "cell_type": "code",
   "execution_count": 52,
   "metadata": {},
   "outputs": [],
   "source": [
    "frame_train = frame_train.fillna(frame_train.mean())\n",
    "frame_test = frame_test.fillna(frame_test.mean())"
   ]
  },
  {
   "cell_type": "code",
   "execution_count": 53,
   "metadata": {},
   "outputs": [],
   "source": [
    "def get_testing_labels(training_samples, training_labels, testing_samples):\n",
    "    normalizer       = Normalizer().fit(training_samples)\n",
    "    training_samples = normalizer.transform(training_samples)\n",
    "    testing_samples  = normalizer.transform(testing_samples)\n",
    "\n",
    "    pca              = PCA(n_components=0.8, whiten=True).fit(training_samples)\n",
    "    training_samples = pca.transform(training_samples)\n",
    "    testing_samples  = pca.transform(testing_samples)\n",
    "\n",
    "    svm_classifier   = SVC(C=2.8).fit(training_samples, training_labels)\n",
    "    return svm_classifier.predict(testing_samples)"
   ]
  },
  {
   "cell_type": "code",
   "execution_count": 54,
   "metadata": {},
   "outputs": [],
   "source": [
    "def main():\n",
    "    # Read training and testing data\n",
    "    training_df = frame_train\n",
    "    testing_df  = frame_test \n",
    "\n",
    "    # Get training samples and labels from training data\n",
    "    training_labels     = training_df['survived'].values\n",
    "    training_samples    = training_df.drop(['survived'], axis = 1).values\n",
    "    # Get testing samples from testing data\n",
    "    testing_samples     = testing_df.values\n",
    "    testing_labels      = get_testing_labels(training_samples, training_labels, testing_samples)\n",
    "    \n",
    "    # Writing testing labels to CSV\n",
    "    testing_labels_df   = pd.DataFrame(testing_labels, columns=['Label'])\n",
    "    testing_labels_df.index     += 1\n",
    "    testing_labels_df.index.name = 'ImageId'\n",
    "    testing_labels_df.to_csv('Predict_survived.csv', sep=',')"
   ]
  },
  {
   "cell_type": "code",
   "execution_count": 55,
   "metadata": {},
   "outputs": [],
   "source": [
    "if __name__ == \"__main__\":\n",
    "    main()"
   ]
  },
  {
   "cell_type": "code",
   "execution_count": null,
   "metadata": {},
   "outputs": [],
   "source": []
  },
  {
   "cell_type": "code",
   "execution_count": null,
   "metadata": {},
   "outputs": [],
   "source": []
  },
  {
   "cell_type": "code",
   "execution_count": null,
   "metadata": {},
   "outputs": [],
   "source": []
  },
  {
   "cell_type": "code",
   "execution_count": null,
   "metadata": {},
   "outputs": [],
   "source": []
  },
  {
   "cell_type": "code",
   "execution_count": 56,
   "metadata": {},
   "outputs": [],
   "source": [
    "###############################################################################\n",
    "###############################################################################\n",
    "###############################################################################"
   ]
  },
  {
   "cell_type": "markdown",
   "metadata": {},
   "source": [
    " -  - Model predict accuracy rate"
   ]
  },
  {
   "cell_type": "code",
   "execution_count": 57,
   "metadata": {},
   "outputs": [],
   "source": [
    "###############################################################################\n",
    "###############################################################################\n",
    "###############################################################################"
   ]
  },
  {
   "cell_type": "code",
   "execution_count": 58,
   "metadata": {},
   "outputs": [],
   "source": [
    "# train = (data_train) ；test = (data_train) ， Model accuracy_rate = 97%"
   ]
  },
  {
   "cell_type": "code",
   "execution_count": 59,
   "metadata": {},
   "outputs": [],
   "source": [
    "frame_train = pd.DataFrame(data_train_tr)\n",
    "frame_0 = pd.Series(frame_train[0][0:1000])\n",
    "frame_1 = pd.Series(frame_train[1][0:1000])\n",
    "frame_2 = pd.Series(frame_train[2][0:1000])\n",
    "frame_3 = pd.Series(frame_train[3][0:1000])\n",
    "frame_4 = pd.Series(frame_train[4][0:1000])\n",
    "frame_5 = pd.Series(sex_data_train[0:1000])\n",
    "frame_6 = pd.Series(embarked_data_train[0:1000])\n",
    "frame_7 = pd.Series(boat_data_train[0:1000])\n",
    "data_train = {'age':frame_0,'sibsp':frame_1,'parch':frame_2,'fare':frame_3,'survived':frame_4,'sex':frame_5,'embarked':frame_6,'boat':frame_7}\n",
    "frame_train = pd.DataFrame(data_train)"
   ]
  },
  {
   "cell_type": "code",
   "execution_count": 60,
   "metadata": {},
   "outputs": [],
   "source": [
    "frame_test = pd.DataFrame(data_train_tr)\n",
    "frame_0 = pd.Series(frame_test[0][0:1000])\n",
    "frame_1 = pd.Series(frame_test[1][0:1000])\n",
    "frame_2 = pd.Series(frame_test[2][0:1000])\n",
    "frame_3 = pd.Series(frame_test[3][0:1000])\n",
    "frame_5 = pd.Series(sex_data_train[0:1000])\n",
    "frame_6 = pd.Series(embarked_data_train[0:1000])\n",
    "frame_7 = pd.Series(boat_data_train[0:1000])\n",
    "data_test = {'age':frame_0,'sibsp':frame_1,'parch':frame_2,'fare':frame_3,'sex':frame_5,'embarked':frame_6,'boat':frame_7}\n",
    "frame_test = pd.DataFrame(data_test)"
   ]
  },
  {
   "cell_type": "code",
   "execution_count": null,
   "metadata": {},
   "outputs": [],
   "source": []
  },
  {
   "cell_type": "markdown",
   "metadata": {},
   "source": [
    " - 缺失值( nan ) 用平均去帶入\n",
    " - 參考網站 : http://www.ppvke.com/Blog/archives/36612"
   ]
  },
  {
   "cell_type": "code",
   "execution_count": 61,
   "metadata": {},
   "outputs": [],
   "source": [
    "frame_train = frame_train.fillna(frame_train.mean())\n",
    "frame_test = frame_test.fillna(frame_test.mean())"
   ]
  },
  {
   "cell_type": "code",
   "execution_count": 62,
   "metadata": {},
   "outputs": [],
   "source": [
    "def get_testing_labels(training_samples, training_labels, testing_samples):\n",
    "    normalizer       = Normalizer().fit(training_samples)\n",
    "    training_samples = normalizer.transform(training_samples)\n",
    "    testing_samples  = normalizer.transform(testing_samples)\n",
    "\n",
    "    pca              = PCA(n_components=0.8, whiten=True).fit(training_samples)\n",
    "    training_samples = pca.transform(training_samples)\n",
    "    testing_samples  = pca.transform(testing_samples)\n",
    "\n",
    "    svm_classifier   = SVC(C=2.8).fit(training_samples, training_labels)\n",
    "    return svm_classifier.predict(testing_samples)"
   ]
  },
  {
   "cell_type": "code",
   "execution_count": 63,
   "metadata": {},
   "outputs": [],
   "source": [
    "def main():\n",
    "    # Read training and testing data\n",
    "    training_df = frame_train\n",
    "    testing_df  = frame_test \n",
    "\n",
    "    # Get training samples and labels from training data\n",
    "    training_labels     = training_df['survived'].values\n",
    "    training_samples    = training_df.drop(['survived'], axis = 1).values\n",
    "    # Get testing samples from testing data\n",
    "    testing_samples     = testing_df.values\n",
    "    testing_labels      = get_testing_labels(training_samples, training_labels, testing_samples)\n",
    "    \n",
    "    # Writing testing labels to CSV\n",
    "    testing_labels_df   = pd.DataFrame(testing_labels, columns=['Label'])\n",
    "    testing_labels_df.index     += 1\n",
    "    testing_labels_df.index.name = 'ImageId'\n",
    "    testing_labels_df.to_csv('sample_submission_1.csv', sep=',')"
   ]
  },
  {
   "cell_type": "code",
   "execution_count": 64,
   "metadata": {},
   "outputs": [],
   "source": [
    "if __name__ == \"__main__\":\n",
    "    main()"
   ]
  },
  {
   "cell_type": "markdown",
   "metadata": {},
   "source": [
    " - Model predict accuracy rate"
   ]
  },
  {
   "cell_type": "code",
   "execution_count": 65,
   "metadata": {},
   "outputs": [],
   "source": [
    "data_train = pd.read_csv(\"titanicTrain.csv\")\n",
    "data_predict = pd.read_csv(\"sample_submission_1.csv\")"
   ]
  },
  {
   "cell_type": "code",
   "execution_count": 66,
   "metadata": {},
   "outputs": [
    {
     "data": {
      "text/plain": [
       "Index(['pclass', 'survived', 'name', 'sex', 'age', 'sibsp', 'parch', 'ticket',\n",
       "       'fare', 'cabin', 'embarked', 'boat', 'body', 'home.dest'],\n",
       "      dtype='object')"
      ]
     },
     "execution_count": 66,
     "metadata": {},
     "output_type": "execute_result"
    }
   ],
   "source": [
    "data_train.keys()"
   ]
  },
  {
   "cell_type": "code",
   "execution_count": 67,
   "metadata": {},
   "outputs": [
    {
     "data": {
      "text/plain": [
       "Index(['ImageId', 'Label'], dtype='object')"
      ]
     },
     "execution_count": 67,
     "metadata": {},
     "output_type": "execute_result"
    }
   ],
   "source": [
    "data_predict.keys()"
   ]
  },
  {
   "cell_type": "code",
   "execution_count": 68,
   "metadata": {},
   "outputs": [],
   "source": [
    "frame_train = pd.DataFrame(data_train)\n",
    "frame_predict = pd.DataFrame(data_predict)\n",
    "predict_before = pd.Series(frame_train['survived'][0:1000])\n",
    "predict_after  = pd.Series(frame_predict['Label'][0:1000])\n",
    "data_predict = {'Before':predict_before,'After':predict_after}\n",
    "predict_train = pd.DataFrame(data_predict)"
   ]
  },
  {
   "cell_type": "code",
   "execution_count": 69,
   "metadata": {},
   "outputs": [
    {
     "name": "stdout",
     "output_type": "stream",
     "text": [
      "Predict_accuracy_rate =  96.6  %\n"
     ]
    }
   ],
   "source": [
    "g = 0\n",
    "for i in range(len(predict_train)):\n",
    "    g = g+np.abs(predict_train['After'][i]-predict_train['Before'][i])\n",
    "print('Predict_accuracy_rate = ',(1-(g/len(predict_train)))*100,' %')"
   ]
  },
  {
   "cell_type": "code",
   "execution_count": null,
   "metadata": {},
   "outputs": [],
   "source": []
  }
 ],
 "metadata": {
  "kernelspec": {
   "display_name": "Python 3",
   "language": "python",
   "name": "python3"
  },
  "language_info": {
   "codemirror_mode": {
    "name": "ipython",
    "version": 3
   },
   "file_extension": ".py",
   "mimetype": "text/x-python",
   "name": "python",
   "nbconvert_exporter": "python",
   "pygments_lexer": "ipython3",
   "version": "3.6.4"
  }
 },
 "nbformat": 4,
 "nbformat_minor": 2
}
