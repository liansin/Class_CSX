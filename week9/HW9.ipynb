{
 "cells": [
  {
   "cell_type": "code",
   "execution_count": 1,
   "metadata": {},
   "outputs": [],
   "source": [
    "import numpy as np\n",
    "import pandas as pd"
   ]
  },
  {
   "cell_type": "code",
   "execution_count": 93,
   "metadata": {},
   "outputs": [],
   "source": [
    "df = pd.read_csv('teacher.csv')"
   ]
  },
  {
   "cell_type": "code",
   "execution_count": 94,
   "metadata": {},
   "outputs": [
    {
     "data": {
      "text/plain": [
       "Index(['Year', 'Prof.', 'AssProf.', 'AsstProf.', 'Lecture', 'Prof.Outside',\n",
       "       'AssProf.Outside', 'AsstProf.Outside', 'LectureOutside'],\n",
       "      dtype='object')"
      ]
     },
     "execution_count": 94,
     "metadata": {},
     "output_type": "execute_result"
    }
   ],
   "source": [
    "df.keys()"
   ]
  },
  {
   "cell_type": "code",
   "execution_count": 122,
   "metadata": {},
   "outputs": [
    {
     "data": {
      "text/html": [
       "<div>\n",
       "<style scoped>\n",
       "    .dataframe tbody tr th:only-of-type {\n",
       "        vertical-align: middle;\n",
       "    }\n",
       "\n",
       "    .dataframe tbody tr th {\n",
       "        vertical-align: top;\n",
       "    }\n",
       "\n",
       "    .dataframe thead th {\n",
       "        text-align: right;\n",
       "    }\n",
       "</style>\n",
       "<table border=\"1\" class=\"dataframe\">\n",
       "  <thead>\n",
       "    <tr style=\"text-align: right;\">\n",
       "      <th></th>\n",
       "      <th>Year</th>\n",
       "      <th>Prof.</th>\n",
       "      <th>AssProf.</th>\n",
       "      <th>AsstProf.</th>\n",
       "      <th>Lecture</th>\n",
       "      <th>Prof.Outside</th>\n",
       "      <th>AssProf.Outside</th>\n",
       "      <th>AsstProf.Outside</th>\n",
       "      <th>LectureOutside</th>\n",
       "    </tr>\n",
       "  </thead>\n",
       "  <tbody>\n",
       "    <tr>\n",
       "      <th>0</th>\n",
       "      <td>1950.0</td>\n",
       "      <td>178.0</td>\n",
       "      <td>71.0</td>\n",
       "      <td>NaN</td>\n",
       "      <td>64.0</td>\n",
       "      <td>NaN</td>\n",
       "      <td>NaN</td>\n",
       "      <td>NaN</td>\n",
       "      <td>NaN</td>\n",
       "    </tr>\n",
       "    <tr>\n",
       "      <th>1</th>\n",
       "      <td>1951.0</td>\n",
       "      <td>186.0</td>\n",
       "      <td>74.0</td>\n",
       "      <td>NaN</td>\n",
       "      <td>76.0</td>\n",
       "      <td>NaN</td>\n",
       "      <td>NaN</td>\n",
       "      <td>NaN</td>\n",
       "      <td>NaN</td>\n",
       "    </tr>\n",
       "    <tr>\n",
       "      <th>2</th>\n",
       "      <td>1952.0</td>\n",
       "      <td>187.0</td>\n",
       "      <td>77.0</td>\n",
       "      <td>NaN</td>\n",
       "      <td>89.0</td>\n",
       "      <td>NaN</td>\n",
       "      <td>NaN</td>\n",
       "      <td>NaN</td>\n",
       "      <td>NaN</td>\n",
       "    </tr>\n",
       "    <tr>\n",
       "      <th>3</th>\n",
       "      <td>1953.0</td>\n",
       "      <td>204.0</td>\n",
       "      <td>81.0</td>\n",
       "      <td>NaN</td>\n",
       "      <td>104.0</td>\n",
       "      <td>NaN</td>\n",
       "      <td>NaN</td>\n",
       "      <td>NaN</td>\n",
       "      <td>NaN</td>\n",
       "    </tr>\n",
       "    <tr>\n",
       "      <th>4</th>\n",
       "      <td>1954.0</td>\n",
       "      <td>224.0</td>\n",
       "      <td>93.0</td>\n",
       "      <td>NaN</td>\n",
       "      <td>121.0</td>\n",
       "      <td>NaN</td>\n",
       "      <td>NaN</td>\n",
       "      <td>NaN</td>\n",
       "      <td>NaN</td>\n",
       "    </tr>\n",
       "  </tbody>\n",
       "</table>\n",
       "</div>"
      ],
      "text/plain": [
       "     Year  Prof.  AssProf.  AsstProf.  Lecture  Prof.Outside  AssProf.Outside  \\\n",
       "0  1950.0  178.0      71.0        NaN     64.0           NaN              NaN   \n",
       "1  1951.0  186.0      74.0        NaN     76.0           NaN              NaN   \n",
       "2  1952.0  187.0      77.0        NaN     89.0           NaN              NaN   \n",
       "3  1953.0  204.0      81.0        NaN    104.0           NaN              NaN   \n",
       "4  1954.0  224.0      93.0        NaN    121.0           NaN              NaN   \n",
       "\n",
       "   AsstProf.Outside  LectureOutside  \n",
       "0               NaN             NaN  \n",
       "1               NaN             NaN  \n",
       "2               NaN             NaN  \n",
       "3               NaN             NaN  \n",
       "4               NaN             NaN  "
      ]
     },
     "execution_count": 122,
     "metadata": {},
     "output_type": "execute_result"
    }
   ],
   "source": [
    "df.head()"
   ]
  },
  {
   "cell_type": "code",
   "execution_count": 96,
   "metadata": {},
   "outputs": [],
   "source": [
    "# 將沒有年份(不連續)的資料清除\n",
    "del_col = df[df['Year'].notnull()]\n",
    "del_col.index = range(len(del_col))\n",
    "df1 = del_col"
   ]
  },
  {
   "cell_type": "code",
   "execution_count": 97,
   "metadata": {},
   "outputs": [
    {
     "data": {
      "text/html": [
       "<div>\n",
       "<style scoped>\n",
       "    .dataframe tbody tr th:only-of-type {\n",
       "        vertical-align: middle;\n",
       "    }\n",
       "\n",
       "    .dataframe tbody tr th {\n",
       "        vertical-align: top;\n",
       "    }\n",
       "\n",
       "    .dataframe thead th {\n",
       "        text-align: right;\n",
       "    }\n",
       "</style>\n",
       "<table border=\"1\" class=\"dataframe\">\n",
       "  <thead>\n",
       "    <tr style=\"text-align: right;\">\n",
       "      <th></th>\n",
       "      <th>Year</th>\n",
       "      <th>Prof.</th>\n",
       "      <th>AssProf.</th>\n",
       "      <th>AsstProf.</th>\n",
       "      <th>Lecture</th>\n",
       "      <th>Prof.Outside</th>\n",
       "      <th>AssProf.Outside</th>\n",
       "      <th>AsstProf.Outside</th>\n",
       "      <th>LectureOutside</th>\n",
       "    </tr>\n",
       "  </thead>\n",
       "  <tbody>\n",
       "    <tr>\n",
       "      <th>Year</th>\n",
       "      <td>1.000000</td>\n",
       "      <td>0.985789</td>\n",
       "      <td>0.846220</td>\n",
       "      <td>0.956099</td>\n",
       "      <td>-0.315704</td>\n",
       "      <td>0.937066</td>\n",
       "      <td>0.968068</td>\n",
       "      <td>0.656017</td>\n",
       "      <td>0.877551</td>\n",
       "    </tr>\n",
       "    <tr>\n",
       "      <th>Prof.</th>\n",
       "      <td>0.985789</td>\n",
       "      <td>1.000000</td>\n",
       "      <td>0.846407</td>\n",
       "      <td>0.700342</td>\n",
       "      <td>-0.395765</td>\n",
       "      <td>0.878274</td>\n",
       "      <td>0.925910</td>\n",
       "      <td>0.574049</td>\n",
       "      <td>0.870955</td>\n",
       "    </tr>\n",
       "    <tr>\n",
       "      <th>AssProf.</th>\n",
       "      <td>0.846220</td>\n",
       "      <td>0.846407</td>\n",
       "      <td>1.000000</td>\n",
       "      <td>-0.751297</td>\n",
       "      <td>0.058124</td>\n",
       "      <td>0.584471</td>\n",
       "      <td>0.648577</td>\n",
       "      <td>0.442146</td>\n",
       "      <td>0.652177</td>\n",
       "    </tr>\n",
       "    <tr>\n",
       "      <th>AsstProf.</th>\n",
       "      <td>0.956099</td>\n",
       "      <td>0.700342</td>\n",
       "      <td>-0.751297</td>\n",
       "      <td>1.000000</td>\n",
       "      <td>-0.972021</td>\n",
       "      <td>0.858788</td>\n",
       "      <td>0.867795</td>\n",
       "      <td>0.833204</td>\n",
       "      <td>0.721861</td>\n",
       "    </tr>\n",
       "    <tr>\n",
       "      <th>Lecture</th>\n",
       "      <td>-0.315704</td>\n",
       "      <td>-0.395765</td>\n",
       "      <td>0.058124</td>\n",
       "      <td>-0.972021</td>\n",
       "      <td>1.000000</td>\n",
       "      <td>-0.714022</td>\n",
       "      <td>-0.705319</td>\n",
       "      <td>-0.460660</td>\n",
       "      <td>-0.832782</td>\n",
       "    </tr>\n",
       "    <tr>\n",
       "      <th>Prof.Outside</th>\n",
       "      <td>0.937066</td>\n",
       "      <td>0.878274</td>\n",
       "      <td>0.584471</td>\n",
       "      <td>0.858788</td>\n",
       "      <td>-0.714022</td>\n",
       "      <td>1.000000</td>\n",
       "      <td>0.973481</td>\n",
       "      <td>0.839205</td>\n",
       "      <td>0.951972</td>\n",
       "    </tr>\n",
       "    <tr>\n",
       "      <th>AssProf.Outside</th>\n",
       "      <td>0.968068</td>\n",
       "      <td>0.925910</td>\n",
       "      <td>0.648577</td>\n",
       "      <td>0.867795</td>\n",
       "      <td>-0.705319</td>\n",
       "      <td>0.973481</td>\n",
       "      <td>1.000000</td>\n",
       "      <td>0.707270</td>\n",
       "      <td>0.937468</td>\n",
       "    </tr>\n",
       "    <tr>\n",
       "      <th>AsstProf.Outside</th>\n",
       "      <td>0.656017</td>\n",
       "      <td>0.574049</td>\n",
       "      <td>0.442146</td>\n",
       "      <td>0.833204</td>\n",
       "      <td>-0.460660</td>\n",
       "      <td>0.839205</td>\n",
       "      <td>0.707270</td>\n",
       "      <td>1.000000</td>\n",
       "      <td>0.872944</td>\n",
       "    </tr>\n",
       "    <tr>\n",
       "      <th>LectureOutside</th>\n",
       "      <td>0.877551</td>\n",
       "      <td>0.870955</td>\n",
       "      <td>0.652177</td>\n",
       "      <td>0.721861</td>\n",
       "      <td>-0.832782</td>\n",
       "      <td>0.951972</td>\n",
       "      <td>0.937468</td>\n",
       "      <td>0.872944</td>\n",
       "      <td>1.000000</td>\n",
       "    </tr>\n",
       "  </tbody>\n",
       "</table>\n",
       "</div>"
      ],
      "text/plain": [
       "                      Year     Prof.  AssProf.  AsstProf.   Lecture  \\\n",
       "Year              1.000000  0.985789  0.846220   0.956099 -0.315704   \n",
       "Prof.             0.985789  1.000000  0.846407   0.700342 -0.395765   \n",
       "AssProf.          0.846220  0.846407  1.000000  -0.751297  0.058124   \n",
       "AsstProf.         0.956099  0.700342 -0.751297   1.000000 -0.972021   \n",
       "Lecture          -0.315704 -0.395765  0.058124  -0.972021  1.000000   \n",
       "Prof.Outside      0.937066  0.878274  0.584471   0.858788 -0.714022   \n",
       "AssProf.Outside   0.968068  0.925910  0.648577   0.867795 -0.705319   \n",
       "AsstProf.Outside  0.656017  0.574049  0.442146   0.833204 -0.460660   \n",
       "LectureOutside    0.877551  0.870955  0.652177   0.721861 -0.832782   \n",
       "\n",
       "                  Prof.Outside  AssProf.Outside  AsstProf.Outside  \\\n",
       "Year                  0.937066         0.968068          0.656017   \n",
       "Prof.                 0.878274         0.925910          0.574049   \n",
       "AssProf.              0.584471         0.648577          0.442146   \n",
       "AsstProf.             0.858788         0.867795          0.833204   \n",
       "Lecture              -0.714022        -0.705319         -0.460660   \n",
       "Prof.Outside          1.000000         0.973481          0.839205   \n",
       "AssProf.Outside       0.973481         1.000000          0.707270   \n",
       "AsstProf.Outside      0.839205         0.707270          1.000000   \n",
       "LectureOutside        0.951972         0.937468          0.872944   \n",
       "\n",
       "                  LectureOutside  \n",
       "Year                    0.877551  \n",
       "Prof.                   0.870955  \n",
       "AssProf.                0.652177  \n",
       "AsstProf.               0.721861  \n",
       "Lecture                -0.832782  \n",
       "Prof.Outside            0.951972  \n",
       "AssProf.Outside         0.937468  \n",
       "AsstProf.Outside        0.872944  \n",
       "LectureOutside          1.000000  "
      ]
     },
     "execution_count": 97,
     "metadata": {},
     "output_type": "execute_result"
    }
   ],
   "source": [
    "df1.corr()"
   ]
  },
  {
   "cell_type": "markdown",
   "metadata": {},
   "source": [
    "  - Prof. & Lecture corr < 0 , if Prof. ↑  then Lecture ↓ , is right?"
   ]
  },
  {
   "cell_type": "code",
   "execution_count": 109,
   "metadata": {},
   "outputs": [],
   "source": [
    "%matplotlib inline\n",
    "import matplotlib.pyplot as plt\n",
    "import seaborn as sns; sns.set()"
   ]
  },
  {
   "cell_type": "code",
   "execution_count": 112,
   "metadata": {},
   "outputs": [
    {
     "data": {
      "text/plain": [
       "Text(0,0.5,'Lecture')"
      ]
     },
     "execution_count": 112,
     "metadata": {},
     "output_type": "execute_result"
    },
    {
     "data": {
      "image/png": "[encoded data removed]",
      "text/plain": [
       "<matplotlib.figure.Figure at 0x29c71928c18>"
      ]
     },
     "metadata": {},
     "output_type": "display_data"
    }
   ],
   "source": [
    "x = df1['Prof.']\n",
    "y = df1['Lecture']\n",
    "plt.scatter(x, y)\n",
    "plt.xlabel('Prof')\n",
    "plt.ylabel('Lecture')"
   ]
  },
  {
   "cell_type": "code",
   "execution_count": 113,
   "metadata": {},
   "outputs": [
    {
     "data": {
      "text/plain": [
       "[<matplotlib.lines.Line2D at 0x29c71a29978>]"
      ]
     },
     "execution_count": 113,
     "metadata": {},
     "output_type": "execute_result"
    },
    {
     "data": {
      "image/png": "[encoded data removed]",
      "text/plain": [
       "<matplotlib.figure.Figure at 0x29c71a297f0>"
      ]
     },
     "metadata": {},
     "output_type": "display_data"
    }
   ],
   "source": [
    "from sklearn.linear_model import LinearRegression\n",
    "model = LinearRegression(fit_intercept=True)\n",
    "\n",
    "model.fit(x[:, np.newaxis], y)\n",
    "\n",
    "xfit = np.linspace(0, 1200, 10000)\n",
    "yfit = model.predict(xfit[:, np.newaxis])\n",
    "\n",
    "plt.scatter(x, y)\n",
    "plt.plot(xfit, yfit)"
   ]
  },
  {
   "cell_type": "markdown",
   "metadata": {},
   "source": [
    " - Cruical year about 1970\n",
    " - From Prof. & Lecture plot , we can see perform \" ∩ \" type\n",
    " \n",
    " - #### I want to know lecture is or not saturation\n",
    " \n",
    " \n",
    " - Now we can assume :\n",
    " \n",
    "  - Θo = 50(lecture is saturation)\n",
    "  - H0 : Θ >= 50\n",
    "  - H1 : Θ <  50"
   ]
  },
  {
   "cell_type": "code",
   "execution_count": 12,
   "metadata": {},
   "outputs": [],
   "source": [
    "import scipy.stats as stats"
   ]
  },
  {
   "cell_type": "code",
   "execution_count": 13,
   "metadata": {},
   "outputs": [
    {
     "data": {
      "text/plain": [
       "Index(['Year', 'Prof.', 'AssProf.', 'AsstProf.', 'Lecture', 'Prof.Outside',\n",
       "       'AssProf.Outside', 'AsstProf.Outside', 'LectureOutside'],\n",
       "      dtype='object')"
      ]
     },
     "execution_count": 13,
     "metadata": {},
     "output_type": "execute_result"
    }
   ],
   "source": [
    "df1.keys()"
   ]
  },
  {
   "cell_type": "code",
   "execution_count": null,
   "metadata": {},
   "outputs": [],
   "source": [
    "x_num = df1['Prof.'].isnull().sum()\n",
    "y_num = df1['AssProf.'].isnull().sum()\n",
    "z_num = df1['AsstProf.'].isnull().sum()\n",
    "a_num = df1['Lecture'].isnull().sum()\n",
    "b_num = df1['Prof.Outside'].isnull().sum()\n",
    "c_num = df1['AssProf.Outside'].isnull().sum()\n",
    "d_num = df1['AsstProf.Outside'].isnull().sum()\n",
    "e_num = df1['LectureOutside'].isnull().sum()"
   ]
  },
  {
   "cell_type": "code",
   "execution_count": null,
   "metadata": {},
   "outputs": [],
   "source": [
    "# Perform the ANOVA\n",
    "x = df1['Prof.'][x_num:]\n",
    "y = df1['AssProf.'][y_num:]\n",
    "z = df1['AsstProf.'][z_num:]\n",
    "a = df1['Lecture'][a_num:]\n",
    "b = df1['Prof.Outside'][b_num:]\n",
    "c = df1['AssProf.Outside'][c_num:]\n",
    "d = df1['AsstProf.Outside'][d_num:]\n",
    "e = df1['LectureOutside'][e_num:]\n",
    "stats.f_oneway(x,y,z,a,b,c,d,e)"
   ]
  },
  {
   "cell_type": "code",
   "execution_count": 127,
   "metadata": {},
   "outputs": [
    {
     "data": {
      "text/plain": [
       "F_onewayResult(statistic=121.7468946525648, pvalue=3.180903112872633e-20)"
      ]
     },
     "execution_count": 127,
     "metadata": {},
     "output_type": "execute_result"
    }
   ],
   "source": [
    "# Perform the ANOVA\n",
    "x = df1['Prof.'][x_num:]\n",
    "a = df1['Lecture'][a_num:]\n",
    "stats.f_oneway(x,a) # F - value"
   ]
  },
  {
   "cell_type": "code",
   "execution_count": 129,
   "metadata": {},
   "outputs": [
    {
     "data": {
      "text/plain": [
       "Ttest_indResult(statistic=11.033897527735373, pvalue=4.4175501654013745e-17)"
      ]
     },
     "execution_count": 129,
     "metadata": {},
     "output_type": "execute_result"
    }
   ],
   "source": [
    "stats.ttest_ind(x, a, equal_var = False) # T - test & 雙尾 P - value"
   ]
  },
  {
   "cell_type": "markdown",
   "metadata": {},
   "source": [
    " - Now we can get t-test(t) = 11.033 \n",
    " - When confidence Interval 90 % (n = 60 ; t-value(t0) = 1.2958)\n",
    " - Because t > t0 , so we can reject H0\n",
    " - #### And now we can predict lecture is not saturation"
   ]
  },
  {
   "cell_type": "code",
   "execution_count": null,
   "metadata": {},
   "outputs": [],
   "source": []
  }
 ],
 "metadata": {
  "kernelspec": {
   "display_name": "Python 3",
   "language": "python",
   "name": "python3"
  },
  "language_info": {
   "codemirror_mode": {
    "name": "ipython",
    "version": 3
   },
   "file_extension": ".py",
   "mimetype": "text/x-python",
   "name": "python",
   "nbconvert_exporter": "python",
   "pygments_lexer": "ipython3",
   "version": "3.6.4"
  }
 },
 "nbformat": 4,
 "nbformat_minor": 2
}
